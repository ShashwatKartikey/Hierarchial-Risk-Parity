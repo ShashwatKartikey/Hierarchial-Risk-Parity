{
  "nbformat": 4,
  "nbformat_minor": 0,
  "metadata": {
    "colab": {
      "name": "Untitled3.ipynb",
      "provenance": []
    },
    "kernelspec": {
      "name": "python3",
      "display_name": "Python 3"
    }
  },
  "cells": [
    {
      "cell_type": "code",
      "metadata": {
        "id": "UfMo0u8XUL2A",
        "colab_type": "code",
        "colab": {}
      },
      "source": [
        "import pandas as pd\n",
        "import numpy as np\n",
        "from scipy.cluster.hierarchy import dendrogram, linkage\n",
        "from matplotlib import pyplot as plt\n",
        "import matplotlib"
      ],
      "execution_count": null,
      "outputs": []
    },
    {
      "cell_type": "code",
      "metadata": {
        "id": "EZdtrF4oV8mP",
        "colab_type": "code",
        "colab": {
          "base_uri": "https://localhost:8080/",
          "height": 195
        },
        "outputId": "649f189c-a62d-4773-b869-bee4d2283808"
      },
      "source": [
        "df = pd.read_csv('Book1.csv')\n",
        "df.head()"
      ],
      "execution_count": 82,
      "outputs": [
        {
          "output_type": "execute_result",
          "data": {
            "text/html": [
              "<div>\n",
              "<style scoped>\n",
              "    .dataframe tbody tr th:only-of-type {\n",
              "        vertical-align: middle;\n",
              "    }\n",
              "\n",
              "    .dataframe tbody tr th {\n",
              "        vertical-align: top;\n",
              "    }\n",
              "\n",
              "    .dataframe thead th {\n",
              "        text-align: right;\n",
              "    }\n",
              "</style>\n",
              "<table border=\"1\" class=\"dataframe\">\n",
              "  <thead>\n",
              "    <tr style=\"text-align: right;\">\n",
              "      <th></th>\n",
              "      <th>Date</th>\n",
              "      <th>SUNTECK</th>\n",
              "      <th>RELIANCE</th>\n",
              "      <th>MPHASIS</th>\n",
              "      <th>LALPATHLABS</th>\n",
              "      <th>KANSAINEROLAC</th>\n",
              "      <th>ICICIBANK</th>\n",
              "      <th>HCLTECH</th>\n",
              "      <th>FRETAIL</th>\n",
              "      <th>ASAHIINDIA</th>\n",
              "      <th>TECHM</th>\n",
              "    </tr>\n",
              "  </thead>\n",
              "  <tbody>\n",
              "    <tr>\n",
              "      <th>0</th>\n",
              "      <td>23-03-2020</td>\n",
              "      <td>182.149994</td>\n",
              "      <td>880.742920</td>\n",
              "      <td>616.619812</td>\n",
              "      <td>1251.949951</td>\n",
              "      <td>296.810150</td>\n",
              "      <td>284.000000</td>\n",
              "      <td>415.866760</td>\n",
              "      <td>106.400002</td>\n",
              "      <td>138.750000</td>\n",
              "      <td>483.257935</td>\n",
              "    </tr>\n",
              "    <tr>\n",
              "      <th>1</th>\n",
              "      <td>24-03-2020</td>\n",
              "      <td>179.949997</td>\n",
              "      <td>939.870972</td>\n",
              "      <td>653.928162</td>\n",
              "      <td>1341.800049</td>\n",
              "      <td>308.166809</td>\n",
              "      <td>296.500000</td>\n",
              "      <td>440.690155</td>\n",
              "      <td>101.099998</td>\n",
              "      <td>141.050003</td>\n",
              "      <td>499.426056</td>\n",
              "    </tr>\n",
              "    <tr>\n",
              "      <th>2</th>\n",
              "      <td>25-03-2020</td>\n",
              "      <td>197.000000</td>\n",
              "      <td>1078.201538</td>\n",
              "      <td>698.438843</td>\n",
              "      <td>1399.000000</td>\n",
              "      <td>324.978607</td>\n",
              "      <td>316.899994</td>\n",
              "      <td>456.192352</td>\n",
              "      <td>96.050003</td>\n",
              "      <td>134.949997</td>\n",
              "      <td>522.438354</td>\n",
              "    </tr>\n",
              "    <tr>\n",
              "      <th>3</th>\n",
              "      <td>26-03-2020</td>\n",
              "      <td>204.199997</td>\n",
              "      <td>1062.211548</td>\n",
              "      <td>662.330933</td>\n",
              "      <td>1414.949951</td>\n",
              "      <td>341.939178</td>\n",
              "      <td>330.250000</td>\n",
              "      <td>446.322784</td>\n",
              "      <td>91.250000</td>\n",
              "      <td>141.250000</td>\n",
              "      <td>511.031403</td>\n",
              "    </tr>\n",
              "    <tr>\n",
              "      <th>4</th>\n",
              "      <td>27-03-2020</td>\n",
              "      <td>210.350006</td>\n",
              "      <td>1061.613770</td>\n",
              "      <td>659.065857</td>\n",
              "      <td>1501.949951</td>\n",
              "      <td>354.486053</td>\n",
              "      <td>339.850006</td>\n",
              "      <td>429.325226</td>\n",
              "      <td>86.699997</td>\n",
              "      <td>149.899994</td>\n",
              "      <td>500.021210</td>\n",
              "    </tr>\n",
              "  </tbody>\n",
              "</table>\n",
              "</div>"
            ],
            "text/plain": [
              "         Date     SUNTECK     RELIANCE  ...     FRETAIL  ASAHIINDIA       TECHM\n",
              "0  23-03-2020  182.149994   880.742920  ...  106.400002  138.750000  483.257935\n",
              "1  24-03-2020  179.949997   939.870972  ...  101.099998  141.050003  499.426056\n",
              "2  25-03-2020  197.000000  1078.201538  ...   96.050003  134.949997  522.438354\n",
              "3  26-03-2020  204.199997  1062.211548  ...   91.250000  141.250000  511.031403\n",
              "4  27-03-2020  210.350006  1061.613770  ...   86.699997  149.899994  500.021210\n",
              "\n",
              "[5 rows x 11 columns]"
            ]
          },
          "metadata": {
            "tags": []
          },
          "execution_count": 82
        }
      ]
    },
    {
      "cell_type": "code",
      "metadata": {
        "id": "Hg-7rBzbfvSf",
        "colab_type": "code",
        "colab": {}
      },
      "source": [
        "returns = df.dropna()"
      ],
      "execution_count": 83,
      "outputs": []
    },
    {
      "cell_type": "code",
      "metadata": {
        "id": "QEY43RmimMMP",
        "colab_type": "code",
        "colab": {
          "base_uri": "https://localhost:8080/",
          "height": 284
        },
        "outputId": "bc0ea6da-c277-4126-91a3-2bc62b4a052a"
      },
      "source": [
        "returns.describe()"
      ],
      "execution_count": 84,
      "outputs": [
        {
          "output_type": "execute_result",
          "data": {
            "text/html": [
              "<div>\n",
              "<style scoped>\n",
              "    .dataframe tbody tr th:only-of-type {\n",
              "        vertical-align: middle;\n",
              "    }\n",
              "\n",
              "    .dataframe tbody tr th {\n",
              "        vertical-align: top;\n",
              "    }\n",
              "\n",
              "    .dataframe thead th {\n",
              "        text-align: right;\n",
              "    }\n",
              "</style>\n",
              "<table border=\"1\" class=\"dataframe\">\n",
              "  <thead>\n",
              "    <tr style=\"text-align: right;\">\n",
              "      <th></th>\n",
              "      <th>SUNTECK</th>\n",
              "      <th>RELIANCE</th>\n",
              "      <th>MPHASIS</th>\n",
              "      <th>LALPATHLABS</th>\n",
              "      <th>KANSAINEROLAC</th>\n",
              "      <th>ICICIBANK</th>\n",
              "      <th>HCLTECH</th>\n",
              "      <th>FRETAIL</th>\n",
              "      <th>ASAHIINDIA</th>\n",
              "      <th>TECHM</th>\n",
              "    </tr>\n",
              "  </thead>\n",
              "  <tbody>\n",
              "    <tr>\n",
              "      <th>count</th>\n",
              "      <td>91.000000</td>\n",
              "      <td>91.000000</td>\n",
              "      <td>91.000000</td>\n",
              "      <td>91.000000</td>\n",
              "      <td>91.000000</td>\n",
              "      <td>91.000000</td>\n",
              "      <td>91.000000</td>\n",
              "      <td>91.000000</td>\n",
              "      <td>91.000000</td>\n",
              "      <td>91.000000</td>\n",
              "    </tr>\n",
              "    <tr>\n",
              "      <th>mean</th>\n",
              "      <td>179.607692</td>\n",
              "      <td>1561.865886</td>\n",
              "      <td>819.992220</td>\n",
              "      <td>1612.887363</td>\n",
              "      <td>395.116472</td>\n",
              "      <td>342.346703</td>\n",
              "      <td>545.715595</td>\n",
              "      <td>97.440110</td>\n",
              "      <td>165.473626</td>\n",
              "      <td>552.993331</td>\n",
              "    </tr>\n",
              "    <tr>\n",
              "      <th>std</th>\n",
              "      <td>16.468996</td>\n",
              "      <td>309.832830</td>\n",
              "      <td>144.399002</td>\n",
              "      <td>165.459111</td>\n",
              "      <td>39.454557</td>\n",
              "      <td>23.017211</td>\n",
              "      <td>75.058583</td>\n",
              "      <td>19.578246</td>\n",
              "      <td>12.558717</td>\n",
              "      <td>48.665283</td>\n",
              "    </tr>\n",
              "    <tr>\n",
              "      <th>min</th>\n",
              "      <td>146.750000</td>\n",
              "      <td>880.742920</td>\n",
              "      <td>615.947632</td>\n",
              "      <td>1251.949951</td>\n",
              "      <td>296.810150</td>\n",
              "      <td>284.000000</td>\n",
              "      <td>404.551666</td>\n",
              "      <td>63.849998</td>\n",
              "      <td>134.949997</td>\n",
              "      <td>483.257935</td>\n",
              "    </tr>\n",
              "    <tr>\n",
              "      <th>25%</th>\n",
              "      <td>166.574997</td>\n",
              "      <td>1417.562317</td>\n",
              "      <td>692.076752</td>\n",
              "      <td>1518.525024</td>\n",
              "      <td>365.445953</td>\n",
              "      <td>330.449997</td>\n",
              "      <td>485.925583</td>\n",
              "      <td>80.674999</td>\n",
              "      <td>157.400002</td>\n",
              "      <td>516.462098</td>\n",
              "    </tr>\n",
              "    <tr>\n",
              "      <th>50%</th>\n",
              "      <td>181.300003</td>\n",
              "      <td>1531.947754</td>\n",
              "      <td>816.413879</td>\n",
              "      <td>1568.599976</td>\n",
              "      <td>388.655182</td>\n",
              "      <td>344.649994</td>\n",
              "      <td>550.052734</td>\n",
              "      <td>98.099998</td>\n",
              "      <td>167.750000</td>\n",
              "      <td>540.342285</td>\n",
              "    </tr>\n",
              "    <tr>\n",
              "      <th>75%</th>\n",
              "      <td>190.925003</td>\n",
              "      <td>1774.125000</td>\n",
              "      <td>878.539856</td>\n",
              "      <td>1644.525024</td>\n",
              "      <td>435.274994</td>\n",
              "      <td>357.850006</td>\n",
              "      <td>577.268768</td>\n",
              "      <td>110.324997</td>\n",
              "      <td>174.500000</td>\n",
              "      <td>577.117279</td>\n",
              "    </tr>\n",
              "    <tr>\n",
              "      <th>max</th>\n",
              "      <td>212.600006</td>\n",
              "      <td>2177.699951</td>\n",
              "      <td>1164.400024</td>\n",
              "      <td>1979.800049</td>\n",
              "      <td>462.600006</td>\n",
              "      <td>392.250000</td>\n",
              "      <td>712.450012</td>\n",
              "      <td>142.399994</td>\n",
              "      <td>192.300003</td>\n",
              "      <td>684.349976</td>\n",
              "    </tr>\n",
              "  </tbody>\n",
              "</table>\n",
              "</div>"
            ],
            "text/plain": [
              "          SUNTECK     RELIANCE      MPHASIS  ...     FRETAIL  ASAHIINDIA       TECHM\n",
              "count   91.000000    91.000000    91.000000  ...   91.000000   91.000000   91.000000\n",
              "mean   179.607692  1561.865886   819.992220  ...   97.440110  165.473626  552.993331\n",
              "std     16.468996   309.832830   144.399002  ...   19.578246   12.558717   48.665283\n",
              "min    146.750000   880.742920   615.947632  ...   63.849998  134.949997  483.257935\n",
              "25%    166.574997  1417.562317   692.076752  ...   80.674999  157.400002  516.462098\n",
              "50%    181.300003  1531.947754   816.413879  ...   98.099998  167.750000  540.342285\n",
              "75%    190.925003  1774.125000   878.539856  ...  110.324997  174.500000  577.117279\n",
              "max    212.600006  2177.699951  1164.400024  ...  142.399994  192.300003  684.349976\n",
              "\n",
              "[8 rows x 10 columns]"
            ]
          },
          "metadata": {
            "tags": []
          },
          "execution_count": 84
        }
      ]
    },
    {
      "cell_type": "code",
      "metadata": {
        "id": "vEEVRt34pzt_",
        "colab_type": "code",
        "colab": {
          "base_uri": "https://localhost:8080/",
          "height": 303
        },
        "outputId": "53fd5a35-262a-48e8-a47e-1f20b55ace78"
      },
      "source": [
        "df."
      ],
      "execution_count": 32,
      "outputs": [
        {
          "output_type": "error",
          "ename": "ValueError",
          "evalue": "ignored",
          "traceback": [
            "\u001b[0;31m---------------------------------------------------------------------------\u001b[0m",
            "\u001b[0;31mValueError\u001b[0m                                Traceback (most recent call last)",
            "\u001b[0;32m<ipython-input-32-c2bfddc67fe2>\u001b[0m in \u001b[0;36m<module>\u001b[0;34m()\u001b[0m\n\u001b[0;32m----> 1\u001b[0;31m \u001b[0mdf\u001b[0m\u001b[0;34m.\u001b[0m\u001b[0mDate\u001b[0m\u001b[0;34m.\u001b[0m\u001b[0mdrop\u001b[0m\u001b[0;34m(\u001b[0m\u001b[0;34m)\u001b[0m\u001b[0;34m\u001b[0m\u001b[0;34m\u001b[0m\u001b[0m\n\u001b[0m",
            "\u001b[0;32m/usr/local/lib/python3.6/dist-packages/pandas/core/series.py\u001b[0m in \u001b[0;36mdrop\u001b[0;34m(self, labels, axis, index, columns, level, inplace, errors)\u001b[0m\n\u001b[1;32m   4137\u001b[0m             \u001b[0mlevel\u001b[0m\u001b[0;34m=\u001b[0m\u001b[0mlevel\u001b[0m\u001b[0;34m,\u001b[0m\u001b[0;34m\u001b[0m\u001b[0;34m\u001b[0m\u001b[0m\n\u001b[1;32m   4138\u001b[0m             \u001b[0minplace\u001b[0m\u001b[0;34m=\u001b[0m\u001b[0minplace\u001b[0m\u001b[0;34m,\u001b[0m\u001b[0;34m\u001b[0m\u001b[0;34m\u001b[0m\u001b[0m\n\u001b[0;32m-> 4139\u001b[0;31m             \u001b[0merrors\u001b[0m\u001b[0;34m=\u001b[0m\u001b[0merrors\u001b[0m\u001b[0;34m,\u001b[0m\u001b[0;34m\u001b[0m\u001b[0;34m\u001b[0m\u001b[0m\n\u001b[0m\u001b[1;32m   4140\u001b[0m         )\n\u001b[1;32m   4141\u001b[0m \u001b[0;34m\u001b[0m\u001b[0m\n",
            "\u001b[0;32m/usr/local/lib/python3.6/dist-packages/pandas/core/generic.py\u001b[0m in \u001b[0;36mdrop\u001b[0;34m(self, labels, axis, index, columns, level, inplace, errors)\u001b[0m\n\u001b[1;32m   3927\u001b[0m         \u001b[0;32melse\u001b[0m\u001b[0;34m:\u001b[0m\u001b[0;34m\u001b[0m\u001b[0;34m\u001b[0m\u001b[0m\n\u001b[1;32m   3928\u001b[0m             raise ValueError(\n\u001b[0;32m-> 3929\u001b[0;31m                 \u001b[0;34m\"Need to specify at least one of 'labels', 'index' or 'columns'\"\u001b[0m\u001b[0;34m\u001b[0m\u001b[0;34m\u001b[0m\u001b[0m\n\u001b[0m\u001b[1;32m   3930\u001b[0m             )\n\u001b[1;32m   3931\u001b[0m \u001b[0;34m\u001b[0m\u001b[0m\n",
            "\u001b[0;31mValueError\u001b[0m: Need to specify at least one of 'labels', 'index' or 'columns'"
          ]
        }
      ]
    },
    {
      "cell_type": "code",
      "metadata": {
        "id": "A2LQSZjZqwqt",
        "colab_type": "code",
        "colab": {}
      },
      "source": [
        "del df['Date']"
      ],
      "execution_count": 85,
      "outputs": []
    },
    {
      "cell_type": "code",
      "metadata": {
        "id": "cVxh-XUdq5Md",
        "colab_type": "code",
        "colab": {
          "base_uri": "https://localhost:8080/",
          "height": 284
        },
        "outputId": "a4795798-da7f-4b84-e052-48eeffbecef3"
      },
      "source": [
        "df.describe()"
      ],
      "execution_count": 86,
      "outputs": [
        {
          "output_type": "execute_result",
          "data": {
            "text/html": [
              "<div>\n",
              "<style scoped>\n",
              "    .dataframe tbody tr th:only-of-type {\n",
              "        vertical-align: middle;\n",
              "    }\n",
              "\n",
              "    .dataframe tbody tr th {\n",
              "        vertical-align: top;\n",
              "    }\n",
              "\n",
              "    .dataframe thead th {\n",
              "        text-align: right;\n",
              "    }\n",
              "</style>\n",
              "<table border=\"1\" class=\"dataframe\">\n",
              "  <thead>\n",
              "    <tr style=\"text-align: right;\">\n",
              "      <th></th>\n",
              "      <th>SUNTECK</th>\n",
              "      <th>RELIANCE</th>\n",
              "      <th>MPHASIS</th>\n",
              "      <th>LALPATHLABS</th>\n",
              "      <th>KANSAINEROLAC</th>\n",
              "      <th>ICICIBANK</th>\n",
              "      <th>HCLTECH</th>\n",
              "      <th>FRETAIL</th>\n",
              "      <th>ASAHIINDIA</th>\n",
              "      <th>TECHM</th>\n",
              "    </tr>\n",
              "  </thead>\n",
              "  <tbody>\n",
              "    <tr>\n",
              "      <th>count</th>\n",
              "      <td>91.000000</td>\n",
              "      <td>91.000000</td>\n",
              "      <td>91.000000</td>\n",
              "      <td>91.000000</td>\n",
              "      <td>91.000000</td>\n",
              "      <td>91.000000</td>\n",
              "      <td>91.000000</td>\n",
              "      <td>91.000000</td>\n",
              "      <td>91.000000</td>\n",
              "      <td>91.000000</td>\n",
              "    </tr>\n",
              "    <tr>\n",
              "      <th>mean</th>\n",
              "      <td>179.607692</td>\n",
              "      <td>1561.865886</td>\n",
              "      <td>819.992220</td>\n",
              "      <td>1612.887363</td>\n",
              "      <td>395.116472</td>\n",
              "      <td>342.346703</td>\n",
              "      <td>545.715595</td>\n",
              "      <td>97.440110</td>\n",
              "      <td>165.473626</td>\n",
              "      <td>552.993331</td>\n",
              "    </tr>\n",
              "    <tr>\n",
              "      <th>std</th>\n",
              "      <td>16.468996</td>\n",
              "      <td>309.832830</td>\n",
              "      <td>144.399002</td>\n",
              "      <td>165.459111</td>\n",
              "      <td>39.454557</td>\n",
              "      <td>23.017211</td>\n",
              "      <td>75.058583</td>\n",
              "      <td>19.578246</td>\n",
              "      <td>12.558717</td>\n",
              "      <td>48.665283</td>\n",
              "    </tr>\n",
              "    <tr>\n",
              "      <th>min</th>\n",
              "      <td>146.750000</td>\n",
              "      <td>880.742920</td>\n",
              "      <td>615.947632</td>\n",
              "      <td>1251.949951</td>\n",
              "      <td>296.810150</td>\n",
              "      <td>284.000000</td>\n",
              "      <td>404.551666</td>\n",
              "      <td>63.849998</td>\n",
              "      <td>134.949997</td>\n",
              "      <td>483.257935</td>\n",
              "    </tr>\n",
              "    <tr>\n",
              "      <th>25%</th>\n",
              "      <td>166.574997</td>\n",
              "      <td>1417.562317</td>\n",
              "      <td>692.076752</td>\n",
              "      <td>1518.525024</td>\n",
              "      <td>365.445953</td>\n",
              "      <td>330.449997</td>\n",
              "      <td>485.925583</td>\n",
              "      <td>80.674999</td>\n",
              "      <td>157.400002</td>\n",
              "      <td>516.462098</td>\n",
              "    </tr>\n",
              "    <tr>\n",
              "      <th>50%</th>\n",
              "      <td>181.300003</td>\n",
              "      <td>1531.947754</td>\n",
              "      <td>816.413879</td>\n",
              "      <td>1568.599976</td>\n",
              "      <td>388.655182</td>\n",
              "      <td>344.649994</td>\n",
              "      <td>550.052734</td>\n",
              "      <td>98.099998</td>\n",
              "      <td>167.750000</td>\n",
              "      <td>540.342285</td>\n",
              "    </tr>\n",
              "    <tr>\n",
              "      <th>75%</th>\n",
              "      <td>190.925003</td>\n",
              "      <td>1774.125000</td>\n",
              "      <td>878.539856</td>\n",
              "      <td>1644.525024</td>\n",
              "      <td>435.274994</td>\n",
              "      <td>357.850006</td>\n",
              "      <td>577.268768</td>\n",
              "      <td>110.324997</td>\n",
              "      <td>174.500000</td>\n",
              "      <td>577.117279</td>\n",
              "    </tr>\n",
              "    <tr>\n",
              "      <th>max</th>\n",
              "      <td>212.600006</td>\n",
              "      <td>2177.699951</td>\n",
              "      <td>1164.400024</td>\n",
              "      <td>1979.800049</td>\n",
              "      <td>462.600006</td>\n",
              "      <td>392.250000</td>\n",
              "      <td>712.450012</td>\n",
              "      <td>142.399994</td>\n",
              "      <td>192.300003</td>\n",
              "      <td>684.349976</td>\n",
              "    </tr>\n",
              "  </tbody>\n",
              "</table>\n",
              "</div>"
            ],
            "text/plain": [
              "          SUNTECK     RELIANCE      MPHASIS  ...     FRETAIL  ASAHIINDIA       TECHM\n",
              "count   91.000000    91.000000    91.000000  ...   91.000000   91.000000   91.000000\n",
              "mean   179.607692  1561.865886   819.992220  ...   97.440110  165.473626  552.993331\n",
              "std     16.468996   309.832830   144.399002  ...   19.578246   12.558717   48.665283\n",
              "min    146.750000   880.742920   615.947632  ...   63.849998  134.949997  483.257935\n",
              "25%    166.574997  1417.562317   692.076752  ...   80.674999  157.400002  516.462098\n",
              "50%    181.300003  1531.947754   816.413879  ...   98.099998  167.750000  540.342285\n",
              "75%    190.925003  1774.125000   878.539856  ...  110.324997  174.500000  577.117279\n",
              "max    212.600006  2177.699951  1164.400024  ...  142.399994  192.300003  684.349976\n",
              "\n",
              "[8 rows x 10 columns]"
            ]
          },
          "metadata": {
            "tags": []
          },
          "execution_count": 86
        }
      ]
    },
    {
      "cell_type": "code",
      "metadata": {
        "id": "oiQ2EINmsRKh",
        "colab_type": "code",
        "colab": {}
      },
      "source": [
        "returns = df.pct_change().dropna()"
      ],
      "execution_count": 159,
      "outputs": []
    },
    {
      "cell_type": "code",
      "metadata": {
        "id": "_3WiSIdusW54",
        "colab_type": "code",
        "colab": {
          "base_uri": "https://localhost:8080/",
          "height": 195
        },
        "outputId": "f3d2a514-9cd7-4f10-e3cc-e24044c9a1f6"
      },
      "source": [
        "returns.head()"
      ],
      "execution_count": 111,
      "outputs": [
        {
          "output_type": "execute_result",
          "data": {
            "text/html": [
              "<div>\n",
              "<style scoped>\n",
              "    .dataframe tbody tr th:only-of-type {\n",
              "        vertical-align: middle;\n",
              "    }\n",
              "\n",
              "    .dataframe tbody tr th {\n",
              "        vertical-align: top;\n",
              "    }\n",
              "\n",
              "    .dataframe thead th {\n",
              "        text-align: right;\n",
              "    }\n",
              "</style>\n",
              "<table border=\"1\" class=\"dataframe\">\n",
              "  <thead>\n",
              "    <tr style=\"text-align: right;\">\n",
              "      <th></th>\n",
              "      <th>SUNTECK</th>\n",
              "      <th>RELIANCE</th>\n",
              "      <th>MPHASIS</th>\n",
              "      <th>LALPATHLABS</th>\n",
              "      <th>KANSAINEROLAC</th>\n",
              "      <th>ICICIBANK</th>\n",
              "      <th>HCLTECH</th>\n",
              "      <th>FRETAIL</th>\n",
              "      <th>ASAHIINDIA</th>\n",
              "      <th>TECHM</th>\n",
              "    </tr>\n",
              "  </thead>\n",
              "  <tbody>\n",
              "    <tr>\n",
              "      <th>1</th>\n",
              "      <td>-0.012078</td>\n",
              "      <td>0.067134</td>\n",
              "      <td>0.060505</td>\n",
              "      <td>0.071768</td>\n",
              "      <td>0.038262</td>\n",
              "      <td>0.044014</td>\n",
              "      <td>0.059691</td>\n",
              "      <td>-0.049812</td>\n",
              "      <td>0.016577</td>\n",
              "      <td>0.033457</td>\n",
              "    </tr>\n",
              "    <tr>\n",
              "      <th>2</th>\n",
              "      <td>0.094749</td>\n",
              "      <td>0.147180</td>\n",
              "      <td>0.068067</td>\n",
              "      <td>0.042629</td>\n",
              "      <td>0.054554</td>\n",
              "      <td>0.068803</td>\n",
              "      <td>0.035177</td>\n",
              "      <td>-0.049950</td>\n",
              "      <td>-0.043247</td>\n",
              "      <td>0.046077</td>\n",
              "    </tr>\n",
              "    <tr>\n",
              "      <th>3</th>\n",
              "      <td>0.036548</td>\n",
              "      <td>-0.014830</td>\n",
              "      <td>-0.051698</td>\n",
              "      <td>0.011401</td>\n",
              "      <td>0.052190</td>\n",
              "      <td>0.042127</td>\n",
              "      <td>-0.021635</td>\n",
              "      <td>-0.049974</td>\n",
              "      <td>0.046684</td>\n",
              "      <td>-0.021834</td>\n",
              "    </tr>\n",
              "    <tr>\n",
              "      <th>4</th>\n",
              "      <td>0.030118</td>\n",
              "      <td>-0.000563</td>\n",
              "      <td>-0.004930</td>\n",
              "      <td>0.061486</td>\n",
              "      <td>0.036693</td>\n",
              "      <td>0.029069</td>\n",
              "      <td>-0.038084</td>\n",
              "      <td>-0.049863</td>\n",
              "      <td>0.061239</td>\n",
              "      <td>-0.021545</td>\n",
              "    </tr>\n",
              "    <tr>\n",
              "      <th>5</th>\n",
              "      <td>0.010696</td>\n",
              "      <td>-0.032986</td>\n",
              "      <td>-0.065423</td>\n",
              "      <td>-0.051400</td>\n",
              "      <td>0.014410</td>\n",
              "      <td>-0.077828</td>\n",
              "      <td>-0.027052</td>\n",
              "      <td>-0.049596</td>\n",
              "      <td>-0.004336</td>\n",
              "      <td>0.045031</td>\n",
              "    </tr>\n",
              "  </tbody>\n",
              "</table>\n",
              "</div>"
            ],
            "text/plain": [
              "    SUNTECK  RELIANCE   MPHASIS  ...   FRETAIL  ASAHIINDIA     TECHM\n",
              "1 -0.012078  0.067134  0.060505  ... -0.049812    0.016577  0.033457\n",
              "2  0.094749  0.147180  0.068067  ... -0.049950   -0.043247  0.046077\n",
              "3  0.036548 -0.014830 -0.051698  ... -0.049974    0.046684 -0.021834\n",
              "4  0.030118 -0.000563 -0.004930  ... -0.049863    0.061239 -0.021545\n",
              "5  0.010696 -0.032986 -0.065423  ... -0.049596   -0.004336  0.045031\n",
              "\n",
              "[5 rows x 10 columns]"
            ]
          },
          "metadata": {
            "tags": []
          },
          "execution_count": 111
        }
      ]
    },
    {
      "cell_type": "code",
      "metadata": {
        "id": "Cvso9_hxsZCd",
        "colab_type": "code",
        "colab": {
          "base_uri": "https://localhost:8080/",
          "height": 67
        },
        "outputId": "8bb897b8-d920-4d04-aff4-ee718cdd79c1"
      },
      "source": [
        "returns.columns"
      ],
      "execution_count": 89,
      "outputs": [
        {
          "output_type": "execute_result",
          "data": {
            "text/plain": [
              "Index(['SUNTECK', 'RELIANCE', 'MPHASIS', 'LALPATHLABS', 'KANSAINEROLAC',\n",
              "       'ICICIBANK', 'HCLTECH', 'FRETAIL', 'ASAHIINDIA', 'TECHM'],\n",
              "      dtype='object')"
            ]
          },
          "metadata": {
            "tags": []
          },
          "execution_count": 89
        }
      ]
    },
    {
      "cell_type": "code",
      "metadata": {
        "id": "qx0GBQlVsdtn",
        "colab_type": "code",
        "colab": {
          "base_uri": "https://localhost:8080/",
          "height": 520
        },
        "outputId": "2b7c6fca-7182-4a77-e998-d3eaf2534488"
      },
      "source": [
        "# correlation matrix\n",
        "corr = returns.corr()\n",
        "\n",
        "# distance matrix\n",
        "d_corr = np.sqrt(0.5*(1-corr))\n",
        "\n",
        "link = linkage(d_corr, 'single')\n",
        "Z = pd.DataFrame(link)\n",
        "\n",
        "fig = plt.figure(figsize=(25, 10))\n",
        "dn = dendrogram(Z)\n",
        "# plt.show()"
      ],
      "execution_count": 90,
      "outputs": [
        {
          "output_type": "stream",
          "text": [
            "/usr/local/lib/python3.6/dist-packages/ipykernel_launcher.py:7: ClusterWarning: scipy.cluster: The symmetric non-negative hollow observation matrix looks suspiciously like an uncondensed distance matrix\n",
            "  import sys\n"
          ],
          "name": "stderr"
        },
        {
          "output_type": "display_data",
          "data": {
            "image/png": "[encoded data removed]",
            "text/plain": [
              "<Figure size 1800x720 with 1 Axes>"
            ]
          },
          "metadata": {
            "tags": [],
            "needs_background": "light"
          }
        }
      ]
    },
    {
      "cell_type": "code",
      "metadata": {
        "id": "8CaUy-DqsnOd",
        "colab_type": "code",
        "colab": {
          "base_uri": "https://localhost:8080/",
          "height": 314
        },
        "outputId": "e534ad21-7945-4d8b-8b93-8e950f36d0fc"
      },
      "source": [
        "Z"
      ],
      "execution_count": 91,
      "outputs": [
        {
          "output_type": "execute_result",
          "data": {
            "text/html": [
              "<div>\n",
              "<style scoped>\n",
              "    .dataframe tbody tr th:only-of-type {\n",
              "        vertical-align: middle;\n",
              "    }\n",
              "\n",
              "    .dataframe tbody tr th {\n",
              "        vertical-align: top;\n",
              "    }\n",
              "\n",
              "    .dataframe thead th {\n",
              "        text-align: right;\n",
              "    }\n",
              "</style>\n",
              "<table border=\"1\" class=\"dataframe\">\n",
              "  <thead>\n",
              "    <tr style=\"text-align: right;\">\n",
              "      <th></th>\n",
              "      <th>0</th>\n",
              "      <th>1</th>\n",
              "      <th>2</th>\n",
              "      <th>3</th>\n",
              "    </tr>\n",
              "  </thead>\n",
              "  <tbody>\n",
              "    <tr>\n",
              "      <th>0</th>\n",
              "      <td>6.0</td>\n",
              "      <td>9.0</td>\n",
              "      <td>0.583095</td>\n",
              "      <td>2.0</td>\n",
              "    </tr>\n",
              "    <tr>\n",
              "      <th>1</th>\n",
              "      <td>1.0</td>\n",
              "      <td>5.0</td>\n",
              "      <td>0.761026</td>\n",
              "      <td>2.0</td>\n",
              "    </tr>\n",
              "    <tr>\n",
              "      <th>2</th>\n",
              "      <td>8.0</td>\n",
              "      <td>11.0</td>\n",
              "      <td>0.766858</td>\n",
              "      <td>3.0</td>\n",
              "    </tr>\n",
              "    <tr>\n",
              "      <th>3</th>\n",
              "      <td>0.0</td>\n",
              "      <td>12.0</td>\n",
              "      <td>0.795264</td>\n",
              "      <td>4.0</td>\n",
              "    </tr>\n",
              "    <tr>\n",
              "      <th>4</th>\n",
              "      <td>3.0</td>\n",
              "      <td>13.0</td>\n",
              "      <td>0.798202</td>\n",
              "      <td>5.0</td>\n",
              "    </tr>\n",
              "    <tr>\n",
              "      <th>5</th>\n",
              "      <td>4.0</td>\n",
              "      <td>14.0</td>\n",
              "      <td>0.799119</td>\n",
              "      <td>6.0</td>\n",
              "    </tr>\n",
              "    <tr>\n",
              "      <th>6</th>\n",
              "      <td>10.0</td>\n",
              "      <td>15.0</td>\n",
              "      <td>0.816018</td>\n",
              "      <td>8.0</td>\n",
              "    </tr>\n",
              "    <tr>\n",
              "      <th>7</th>\n",
              "      <td>2.0</td>\n",
              "      <td>16.0</td>\n",
              "      <td>0.824292</td>\n",
              "      <td>9.0</td>\n",
              "    </tr>\n",
              "    <tr>\n",
              "      <th>8</th>\n",
              "      <td>7.0</td>\n",
              "      <td>17.0</td>\n",
              "      <td>0.963989</td>\n",
              "      <td>10.0</td>\n",
              "    </tr>\n",
              "  </tbody>\n",
              "</table>\n",
              "</div>"
            ],
            "text/plain": [
              "      0     1         2     3\n",
              "0   6.0   9.0  0.583095   2.0\n",
              "1   1.0   5.0  0.761026   2.0\n",
              "2   8.0  11.0  0.766858   3.0\n",
              "3   0.0  12.0  0.795264   4.0\n",
              "4   3.0  13.0  0.798202   5.0\n",
              "5   4.0  14.0  0.799119   6.0\n",
              "6  10.0  15.0  0.816018   8.0\n",
              "7   2.0  16.0  0.824292   9.0\n",
              "8   7.0  17.0  0.963989  10.0"
            ]
          },
          "metadata": {
            "tags": []
          },
          "execution_count": 91
        }
      ]
    },
    {
      "cell_type": "code",
      "metadata": {
        "id": "sSut0AhgsvVd",
        "colab_type": "code",
        "colab": {}
      },
      "source": [
        "def get_quasi_diag(link):\n",
        "    \n",
        "    # sort clustered items by distance\n",
        "    \n",
        "    link = link.astype(int)\n",
        "    \n",
        "    # get the first and the second item of the last tuple\n",
        "    sort_ix = pd.Series([link[-1,0], link[-1,1]]) \n",
        "    \n",
        "    # the total num of items is the third item of the last list\n",
        "    num_items = link[-1, 3]\n",
        "    \n",
        "    # if the max of sort_ix is bigger than or equal to the max_items\n",
        "    while sort_ix.max() >= num_items:\n",
        "        # assign sort_ix index with 24 x 24\n",
        "        sort_ix.index = range(0, sort_ix.shape[0]*2, 2) # odd numers as index\n",
        "        \n",
        "        df0 = sort_ix[sort_ix >= num_items] # find clusters\n",
        "        \n",
        "        # df0 contain even index and cluster index\n",
        "        i = df0.index\n",
        "        j = df0.values - num_items # \n",
        "        \n",
        "        sort_ix[i] = link[j,0] # item 1\n",
        "        \n",
        "        df0  = pd.Series(link[j, 1], index=i+1)\n",
        "        \n",
        "        sort_ix = sort_ix.append(df0)\n",
        "        sort_ix = sort_ix.sort_index()\n",
        "        \n",
        "        sort_ix.index = range(sort_ix.shape[0])\n",
        "        \n",
        "    \n",
        "    return sort_ix.tolist()"
      ],
      "execution_count": 92,
      "outputs": []
    },
    {
      "cell_type": "code",
      "metadata": {
        "id": "PsJbwFTvs7XS",
        "colab_type": "code",
        "colab": {
          "base_uri": "https://localhost:8080/",
          "height": 34
        },
        "outputId": "5b44b337-87df-49c8-827c-15575ee96909"
      },
      "source": [
        "sort_ix = get_quasi_diag(link)\n",
        "sort_ix"
      ],
      "execution_count": 93,
      "outputs": [
        {
          "output_type": "execute_result",
          "data": {
            "text/plain": [
              "[7, 2, 6, 9, 4, 3, 0, 8, 1, 5]"
            ]
          },
          "metadata": {
            "tags": []
          },
          "execution_count": 93
        }
      ]
    },
    {
      "cell_type": "code",
      "metadata": {
        "id": "VbyMEhQYs_H0",
        "colab_type": "code",
        "colab": {}
      },
      "source": [
        "def get_cluster_var(cov, c_items):\n",
        "    cov_ = cov.iloc[c_items, c_items] # matrix slice\n",
        "    # calculate the inversev-variance portfolio\n",
        "    ivp = 1./np.diag(cov_)\n",
        "    ivp/=ivp.sum()\n",
        "    w_ = ivp.reshape(-1,1)\n",
        "    c_var = np.dot(np.dot(w_.T, cov_), w_)[0,0]\n",
        "    return c_var\n",
        "def get_rec_bipart(cov, sort_ix):\n",
        "    # compute HRP allocation\n",
        "    # intialize weights of 1\n",
        "    w = pd.Series(1, index=sort_ix)\n",
        "    \n",
        "    # intialize all items in one cluster\n",
        "    c_items = [sort_ix]\n",
        "    while len(c_items) > 0:\n",
        "        # bisection\n",
        "        \"\"\"\n",
        "        [[3, 6, 0, 9, 2, 4, 13], [5, 12, 8, 10, 7, 1, 11]]\n",
        "        [[3, 6, 0], [9, 2, 4, 13], [5, 12, 8], [10, 7, 1, 11]]\n",
        "        [[3], [6, 0], [9, 2], [4, 13], [5], [12, 8], [10, 7], [1, 11]]\n",
        "        [[6], [0], [9], [2], [4], [13], [12], [8], [10], [7], [1], [11]]\n",
        "        \"\"\"\n",
        "        c_items = [i[int(j):int(k)] for i in c_items for j,k in \n",
        "                   ((0,len(i)/2),(len(i)/2,len(i))) if len(i)>1]\n",
        "        \n",
        "        # now it has 2\n",
        "        for i in range(0, len(c_items), 2):\n",
        "            \n",
        "            c_items0 = c_items[i] # cluster 1\n",
        "            c_items1 = c_items[i+1] # cluter 2\n",
        "            \n",
        "            c_var0 = get_cluster_var(cov, c_items0)\n",
        "            c_var1 = get_cluster_var(cov, c_items1)\n",
        "            \n",
        "            alpha = 1 - c_var0/(c_var0+c_var1)\n",
        "            \n",
        "            w[c_items0] *= alpha\n",
        "            w[c_items1] *=1-alpha\n",
        "    return w"
      ],
      "execution_count": 94,
      "outputs": []
    },
    {
      "cell_type": "code",
      "metadata": {
        "id": "Mb6ly3TRtFOQ",
        "colab_type": "code",
        "colab": {
          "base_uri": "https://localhost:8080/",
          "height": 202
        },
        "outputId": "40e9af6a-faee-441a-bc80-c496099a0c8f"
      },
      "source": [
        "cov = returns.cov()\n",
        "weights = get_rec_bipart(cov, sort_ix)\n",
        "\n",
        "new_index = [returns.columns[i] for i in weights.index]\n",
        "weights.index = new_index\n",
        "\n",
        "weights"
      ],
      "execution_count": 139,
      "outputs": [
        {
          "output_type": "execute_result",
          "data": {
            "text/plain": [
              "FRETAIL          0.074049\n",
              "MPHASIS          0.159047\n",
              "HCLTECH          0.118898\n",
              "TECHM            0.097567\n",
              "KANSAINEROLAC    0.099662\n",
              "LALPATHLABS      0.185103\n",
              "SUNTECK          0.073141\n",
              "ASAHIINDIA       0.098355\n",
              "RELIANCE         0.057044\n",
              "ICICIBANK        0.037133\n",
              "dtype: float64"
            ]
          },
          "metadata": {
            "tags": []
          },
          "execution_count": 139
        }
      ]
    },
    {
      "cell_type": "code",
      "metadata": {
        "id": "yq8i4Zpatapx",
        "colab_type": "code",
        "colab": {
          "base_uri": "https://localhost:8080/",
          "height": 195
        },
        "outputId": "1a04d64d-019a-4d5d-8dea-59634f89734c"
      },
      "source": [
        "df.head()"
      ],
      "execution_count": 96,
      "outputs": [
        {
          "output_type": "execute_result",
          "data": {
            "text/html": [
              "<div>\n",
              "<style scoped>\n",
              "    .dataframe tbody tr th:only-of-type {\n",
              "        vertical-align: middle;\n",
              "    }\n",
              "\n",
              "    .dataframe tbody tr th {\n",
              "        vertical-align: top;\n",
              "    }\n",
              "\n",
              "    .dataframe thead th {\n",
              "        text-align: right;\n",
              "    }\n",
              "</style>\n",
              "<table border=\"1\" class=\"dataframe\">\n",
              "  <thead>\n",
              "    <tr style=\"text-align: right;\">\n",
              "      <th></th>\n",
              "      <th>SUNTECK</th>\n",
              "      <th>RELIANCE</th>\n",
              "      <th>MPHASIS</th>\n",
              "      <th>LALPATHLABS</th>\n",
              "      <th>KANSAINEROLAC</th>\n",
              "      <th>ICICIBANK</th>\n",
              "      <th>HCLTECH</th>\n",
              "      <th>FRETAIL</th>\n",
              "      <th>ASAHIINDIA</th>\n",
              "      <th>TECHM</th>\n",
              "    </tr>\n",
              "  </thead>\n",
              "  <tbody>\n",
              "    <tr>\n",
              "      <th>0</th>\n",
              "      <td>182.149994</td>\n",
              "      <td>880.742920</td>\n",
              "      <td>616.619812</td>\n",
              "      <td>1251.949951</td>\n",
              "      <td>296.810150</td>\n",
              "      <td>284.000000</td>\n",
              "      <td>415.866760</td>\n",
              "      <td>106.400002</td>\n",
              "      <td>138.750000</td>\n",
              "      <td>483.257935</td>\n",
              "    </tr>\n",
              "    <tr>\n",
              "      <th>1</th>\n",
              "      <td>179.949997</td>\n",
              "      <td>939.870972</td>\n",
              "      <td>653.928162</td>\n",
              "      <td>1341.800049</td>\n",
              "      <td>308.166809</td>\n",
              "      <td>296.500000</td>\n",
              "      <td>440.690155</td>\n",
              "      <td>101.099998</td>\n",
              "      <td>141.050003</td>\n",
              "      <td>499.426056</td>\n",
              "    </tr>\n",
              "    <tr>\n",
              "      <th>2</th>\n",
              "      <td>197.000000</td>\n",
              "      <td>1078.201538</td>\n",
              "      <td>698.438843</td>\n",
              "      <td>1399.000000</td>\n",
              "      <td>324.978607</td>\n",
              "      <td>316.899994</td>\n",
              "      <td>456.192352</td>\n",
              "      <td>96.050003</td>\n",
              "      <td>134.949997</td>\n",
              "      <td>522.438354</td>\n",
              "    </tr>\n",
              "    <tr>\n",
              "      <th>3</th>\n",
              "      <td>204.199997</td>\n",
              "      <td>1062.211548</td>\n",
              "      <td>662.330933</td>\n",
              "      <td>1414.949951</td>\n",
              "      <td>341.939178</td>\n",
              "      <td>330.250000</td>\n",
              "      <td>446.322784</td>\n",
              "      <td>91.250000</td>\n",
              "      <td>141.250000</td>\n",
              "      <td>511.031403</td>\n",
              "    </tr>\n",
              "    <tr>\n",
              "      <th>4</th>\n",
              "      <td>210.350006</td>\n",
              "      <td>1061.613770</td>\n",
              "      <td>659.065857</td>\n",
              "      <td>1501.949951</td>\n",
              "      <td>354.486053</td>\n",
              "      <td>339.850006</td>\n",
              "      <td>429.325226</td>\n",
              "      <td>86.699997</td>\n",
              "      <td>149.899994</td>\n",
              "      <td>500.021210</td>\n",
              "    </tr>\n",
              "  </tbody>\n",
              "</table>\n",
              "</div>"
            ],
            "text/plain": [
              "      SUNTECK     RELIANCE     MPHASIS  ...     FRETAIL  ASAHIINDIA       TECHM\n",
              "0  182.149994   880.742920  616.619812  ...  106.400002  138.750000  483.257935\n",
              "1  179.949997   939.870972  653.928162  ...  101.099998  141.050003  499.426056\n",
              "2  197.000000  1078.201538  698.438843  ...   96.050003  134.949997  522.438354\n",
              "3  204.199997  1062.211548  662.330933  ...   91.250000  141.250000  511.031403\n",
              "4  210.350006  1061.613770  659.065857  ...   86.699997  149.899994  500.021210\n",
              "\n",
              "[5 rows x 10 columns]"
            ]
          },
          "metadata": {
            "tags": []
          },
          "execution_count": 96
        }
      ]
    },
    {
      "cell_type": "code",
      "metadata": {
        "id": "RLI5rbC6t_HO",
        "colab_type": "code",
        "colab": {}
      },
      "source": [
        "columns = returns.columns\n",
        "list(columns)\n",
        "\n",
        "returns['ew'] = 0\n",
        "\n",
        "\n",
        "for i in columns:\n",
        "  returns['ew'] = returns['ew'] + returns[i]"
      ],
      "execution_count": 97,
      "outputs": []
    },
    {
      "cell_type": "code",
      "metadata": {
        "id": "QRgipHwowb2G",
        "colab_type": "code",
        "colab": {
          "base_uri": "https://localhost:8080/",
          "height": 195
        },
        "outputId": "a3a0d9b3-a98f-4f3b-fabb-dcbeb97a1c2e"
      },
      "source": [
        "returns.head()"
      ],
      "execution_count": 98,
      "outputs": [
        {
          "output_type": "execute_result",
          "data": {
            "text/html": [
              "<div>\n",
              "<style scoped>\n",
              "    .dataframe tbody tr th:only-of-type {\n",
              "        vertical-align: middle;\n",
              "    }\n",
              "\n",
              "    .dataframe tbody tr th {\n",
              "        vertical-align: top;\n",
              "    }\n",
              "\n",
              "    .dataframe thead th {\n",
              "        text-align: right;\n",
              "    }\n",
              "</style>\n",
              "<table border=\"1\" class=\"dataframe\">\n",
              "  <thead>\n",
              "    <tr style=\"text-align: right;\">\n",
              "      <th></th>\n",
              "      <th>SUNTECK</th>\n",
              "      <th>RELIANCE</th>\n",
              "      <th>MPHASIS</th>\n",
              "      <th>LALPATHLABS</th>\n",
              "      <th>KANSAINEROLAC</th>\n",
              "      <th>ICICIBANK</th>\n",
              "      <th>HCLTECH</th>\n",
              "      <th>FRETAIL</th>\n",
              "      <th>ASAHIINDIA</th>\n",
              "      <th>TECHM</th>\n",
              "      <th>ew</th>\n",
              "    </tr>\n",
              "  </thead>\n",
              "  <tbody>\n",
              "    <tr>\n",
              "      <th>1</th>\n",
              "      <td>-0.012078</td>\n",
              "      <td>0.067134</td>\n",
              "      <td>0.060505</td>\n",
              "      <td>0.071768</td>\n",
              "      <td>0.038262</td>\n",
              "      <td>0.044014</td>\n",
              "      <td>0.059691</td>\n",
              "      <td>-0.049812</td>\n",
              "      <td>0.016577</td>\n",
              "      <td>0.033457</td>\n",
              "      <td>0.329517</td>\n",
              "    </tr>\n",
              "    <tr>\n",
              "      <th>2</th>\n",
              "      <td>0.094749</td>\n",
              "      <td>0.147180</td>\n",
              "      <td>0.068067</td>\n",
              "      <td>0.042629</td>\n",
              "      <td>0.054554</td>\n",
              "      <td>0.068803</td>\n",
              "      <td>0.035177</td>\n",
              "      <td>-0.049950</td>\n",
              "      <td>-0.043247</td>\n",
              "      <td>0.046077</td>\n",
              "      <td>0.464039</td>\n",
              "    </tr>\n",
              "    <tr>\n",
              "      <th>3</th>\n",
              "      <td>0.036548</td>\n",
              "      <td>-0.014830</td>\n",
              "      <td>-0.051698</td>\n",
              "      <td>0.011401</td>\n",
              "      <td>0.052190</td>\n",
              "      <td>0.042127</td>\n",
              "      <td>-0.021635</td>\n",
              "      <td>-0.049974</td>\n",
              "      <td>0.046684</td>\n",
              "      <td>-0.021834</td>\n",
              "      <td>0.028979</td>\n",
              "    </tr>\n",
              "    <tr>\n",
              "      <th>4</th>\n",
              "      <td>0.030118</td>\n",
              "      <td>-0.000563</td>\n",
              "      <td>-0.004930</td>\n",
              "      <td>0.061486</td>\n",
              "      <td>0.036693</td>\n",
              "      <td>0.029069</td>\n",
              "      <td>-0.038084</td>\n",
              "      <td>-0.049863</td>\n",
              "      <td>0.061239</td>\n",
              "      <td>-0.021545</td>\n",
              "      <td>0.103621</td>\n",
              "    </tr>\n",
              "    <tr>\n",
              "      <th>5</th>\n",
              "      <td>0.010696</td>\n",
              "      <td>-0.032986</td>\n",
              "      <td>-0.065423</td>\n",
              "      <td>-0.051400</td>\n",
              "      <td>0.014410</td>\n",
              "      <td>-0.077828</td>\n",
              "      <td>-0.027052</td>\n",
              "      <td>-0.049596</td>\n",
              "      <td>-0.004336</td>\n",
              "      <td>0.045031</td>\n",
              "      <td>-0.238485</td>\n",
              "    </tr>\n",
              "  </tbody>\n",
              "</table>\n",
              "</div>"
            ],
            "text/plain": [
              "    SUNTECK  RELIANCE   MPHASIS  ...  ASAHIINDIA     TECHM        ew\n",
              "1 -0.012078  0.067134  0.060505  ...    0.016577  0.033457  0.329517\n",
              "2  0.094749  0.147180  0.068067  ...   -0.043247  0.046077  0.464039\n",
              "3  0.036548 -0.014830 -0.051698  ...    0.046684 -0.021834  0.028979\n",
              "4  0.030118 -0.000563 -0.004930  ...    0.061239 -0.021545  0.103621\n",
              "5  0.010696 -0.032986 -0.065423  ...   -0.004336  0.045031 -0.238485\n",
              "\n",
              "[5 rows x 11 columns]"
            ]
          },
          "metadata": {
            "tags": []
          },
          "execution_count": 98
        }
      ]
    },
    {
      "cell_type": "code",
      "metadata": {
        "id": "ZyBR3-wB2Cuc",
        "colab_type": "code",
        "colab": {}
      },
      "source": [
        "returns['ew'] = returns['ew']/10"
      ],
      "execution_count": 99,
      "outputs": []
    },
    {
      "cell_type": "code",
      "metadata": {
        "id": "BEfExssZ-lVF",
        "colab_type": "code",
        "colab": {
          "base_uri": "https://localhost:8080/",
          "height": 34
        },
        "outputId": "e40dcbce-f2a7-4563-f566-b7a01f41e13f"
      },
      "source": [
        "df.index"
      ],
      "execution_count": 100,
      "outputs": [
        {
          "output_type": "execute_result",
          "data": {
            "text/plain": [
              "RangeIndex(start=0, stop=91, step=1)"
            ]
          },
          "metadata": {
            "tags": []
          },
          "execution_count": 100
        }
      ]
    },
    {
      "cell_type": "code",
      "metadata": {
        "id": "5g61W-7P_qQ6",
        "colab_type": "code",
        "colab": {
          "base_uri": "https://localhost:8080/",
          "height": 402
        },
        "outputId": "265214f6-2c3f-4d1e-ceb5-b337e29af50d"
      },
      "source": [
        "df"
      ],
      "execution_count": 101,
      "outputs": [
        {
          "output_type": "execute_result",
          "data": {
            "text/html": [
              "<div>\n",
              "<style scoped>\n",
              "    .dataframe tbody tr th:only-of-type {\n",
              "        vertical-align: middle;\n",
              "    }\n",
              "\n",
              "    .dataframe tbody tr th {\n",
              "        vertical-align: top;\n",
              "    }\n",
              "\n",
              "    .dataframe thead th {\n",
              "        text-align: right;\n",
              "    }\n",
              "</style>\n",
              "<table border=\"1\" class=\"dataframe\">\n",
              "  <thead>\n",
              "    <tr style=\"text-align: right;\">\n",
              "      <th></th>\n",
              "      <th>SUNTECK</th>\n",
              "      <th>RELIANCE</th>\n",
              "      <th>MPHASIS</th>\n",
              "      <th>LALPATHLABS</th>\n",
              "      <th>KANSAINEROLAC</th>\n",
              "      <th>ICICIBANK</th>\n",
              "      <th>HCLTECH</th>\n",
              "      <th>FRETAIL</th>\n",
              "      <th>ASAHIINDIA</th>\n",
              "      <th>TECHM</th>\n",
              "    </tr>\n",
              "  </thead>\n",
              "  <tbody>\n",
              "    <tr>\n",
              "      <th>0</th>\n",
              "      <td>182.149994</td>\n",
              "      <td>880.742920</td>\n",
              "      <td>616.619812</td>\n",
              "      <td>1251.949951</td>\n",
              "      <td>296.810150</td>\n",
              "      <td>284.000000</td>\n",
              "      <td>415.866760</td>\n",
              "      <td>106.400002</td>\n",
              "      <td>138.750000</td>\n",
              "      <td>483.257935</td>\n",
              "    </tr>\n",
              "    <tr>\n",
              "      <th>1</th>\n",
              "      <td>179.949997</td>\n",
              "      <td>939.870972</td>\n",
              "      <td>653.928162</td>\n",
              "      <td>1341.800049</td>\n",
              "      <td>308.166809</td>\n",
              "      <td>296.500000</td>\n",
              "      <td>440.690155</td>\n",
              "      <td>101.099998</td>\n",
              "      <td>141.050003</td>\n",
              "      <td>499.426056</td>\n",
              "    </tr>\n",
              "    <tr>\n",
              "      <th>2</th>\n",
              "      <td>197.000000</td>\n",
              "      <td>1078.201538</td>\n",
              "      <td>698.438843</td>\n",
              "      <td>1399.000000</td>\n",
              "      <td>324.978607</td>\n",
              "      <td>316.899994</td>\n",
              "      <td>456.192352</td>\n",
              "      <td>96.050003</td>\n",
              "      <td>134.949997</td>\n",
              "      <td>522.438354</td>\n",
              "    </tr>\n",
              "    <tr>\n",
              "      <th>3</th>\n",
              "      <td>204.199997</td>\n",
              "      <td>1062.211548</td>\n",
              "      <td>662.330933</td>\n",
              "      <td>1414.949951</td>\n",
              "      <td>341.939178</td>\n",
              "      <td>330.250000</td>\n",
              "      <td>446.322784</td>\n",
              "      <td>91.250000</td>\n",
              "      <td>141.250000</td>\n",
              "      <td>511.031403</td>\n",
              "    </tr>\n",
              "    <tr>\n",
              "      <th>4</th>\n",
              "      <td>210.350006</td>\n",
              "      <td>1061.613770</td>\n",
              "      <td>659.065857</td>\n",
              "      <td>1501.949951</td>\n",
              "      <td>354.486053</td>\n",
              "      <td>339.850006</td>\n",
              "      <td>429.325226</td>\n",
              "      <td>86.699997</td>\n",
              "      <td>149.899994</td>\n",
              "      <td>500.021210</td>\n",
              "    </tr>\n",
              "    <tr>\n",
              "      <th>...</th>\n",
              "      <td>...</td>\n",
              "      <td>...</td>\n",
              "      <td>...</td>\n",
              "      <td>...</td>\n",
              "      <td>...</td>\n",
              "      <td>...</td>\n",
              "      <td>...</td>\n",
              "      <td>...</td>\n",
              "      <td>...</td>\n",
              "      <td>...</td>\n",
              "    </tr>\n",
              "    <tr>\n",
              "      <th>86</th>\n",
              "      <td>179.949997</td>\n",
              "      <td>2096.649902</td>\n",
              "      <td>1142.050049</td>\n",
              "      <td>1910.300049</td>\n",
              "      <td>432.600006</td>\n",
              "      <td>351.049988</td>\n",
              "      <td>694.400024</td>\n",
              "      <td>110.449997</td>\n",
              "      <td>168.550003</td>\n",
              "      <td>676.400024</td>\n",
              "    </tr>\n",
              "    <tr>\n",
              "      <th>87</th>\n",
              "      <td>183.000000</td>\n",
              "      <td>2108.850098</td>\n",
              "      <td>1155.199951</td>\n",
              "      <td>1881.050049</td>\n",
              "      <td>419.350006</td>\n",
              "      <td>344.950012</td>\n",
              "      <td>695.450012</td>\n",
              "      <td>115.949997</td>\n",
              "      <td>168.800003</td>\n",
              "      <td>674.750000</td>\n",
              "    </tr>\n",
              "    <tr>\n",
              "      <th>88</th>\n",
              "      <td>187.050003</td>\n",
              "      <td>2067.100098</td>\n",
              "      <td>1157.949951</td>\n",
              "      <td>1891.699951</td>\n",
              "      <td>433.549988</td>\n",
              "      <td>346.799988</td>\n",
              "      <td>705.200012</td>\n",
              "      <td>110.199997</td>\n",
              "      <td>171.850006</td>\n",
              "      <td>681.650024</td>\n",
              "    </tr>\n",
              "    <tr>\n",
              "      <th>89</th>\n",
              "      <td>182.050003</td>\n",
              "      <td>2009.000000</td>\n",
              "      <td>1144.599976</td>\n",
              "      <td>1865.300049</td>\n",
              "      <td>442.750000</td>\n",
              "      <td>343.250000</td>\n",
              "      <td>705.950012</td>\n",
              "      <td>104.699997</td>\n",
              "      <td>174.850006</td>\n",
              "      <td>673.599976</td>\n",
              "    </tr>\n",
              "    <tr>\n",
              "      <th>90</th>\n",
              "      <td>190.550003</td>\n",
              "      <td>2150.600098</td>\n",
              "      <td>1103.849976</td>\n",
              "      <td>1840.199951</td>\n",
              "      <td>432.549988</td>\n",
              "      <td>351.000000</td>\n",
              "      <td>692.650024</td>\n",
              "      <td>109.349998</td>\n",
              "      <td>178.100006</td>\n",
              "      <td>652.650024</td>\n",
              "    </tr>\n",
              "  </tbody>\n",
              "</table>\n",
              "<p>91 rows × 10 columns</p>\n",
              "</div>"
            ],
            "text/plain": [
              "       SUNTECK     RELIANCE      MPHASIS  ...     FRETAIL  ASAHIINDIA       TECHM\n",
              "0   182.149994   880.742920   616.619812  ...  106.400002  138.750000  483.257935\n",
              "1   179.949997   939.870972   653.928162  ...  101.099998  141.050003  499.426056\n",
              "2   197.000000  1078.201538   698.438843  ...   96.050003  134.949997  522.438354\n",
              "3   204.199997  1062.211548   662.330933  ...   91.250000  141.250000  511.031403\n",
              "4   210.350006  1061.613770   659.065857  ...   86.699997  149.899994  500.021210\n",
              "..         ...          ...          ...  ...         ...         ...         ...\n",
              "86  179.949997  2096.649902  1142.050049  ...  110.449997  168.550003  676.400024\n",
              "87  183.000000  2108.850098  1155.199951  ...  115.949997  168.800003  674.750000\n",
              "88  187.050003  2067.100098  1157.949951  ...  110.199997  171.850006  681.650024\n",
              "89  182.050003  2009.000000  1144.599976  ...  104.699997  174.850006  673.599976\n",
              "90  190.550003  2150.600098  1103.849976  ...  109.349998  178.100006  652.650024\n",
              "\n",
              "[91 rows x 10 columns]"
            ]
          },
          "metadata": {
            "tags": []
          },
          "execution_count": 101
        }
      ]
    },
    {
      "cell_type": "code",
      "metadata": {
        "id": "X1TFDWJ9_2Gc",
        "colab_type": "code",
        "colab": {}
      },
      "source": [
        "c = (df.iloc[90]-df.iloc[0])/df.iloc[0]"
      ],
      "execution_count": 135,
      "outputs": []
    },
    {
      "cell_type": "code",
      "metadata": {
        "id": "LKliIyYcAOOr",
        "colab_type": "code",
        "colab": {
          "base_uri": "https://localhost:8080/",
          "height": 202
        },
        "outputId": "65a49dd3-3a58-4ab4-fb08-0d2cf2046eed"
      },
      "source": [
        "c"
      ],
      "execution_count": 136,
      "outputs": [
        {
          "output_type": "execute_result",
          "data": {
            "text/plain": [
              "SUNTECK          0.046116\n",
              "RELIANCE         1.441802\n",
              "MPHASIS          0.790163\n",
              "LALPATHLABS      0.469867\n",
              "KANSAINEROLAC    0.457329\n",
              "ICICIBANK        0.235915\n",
              "HCLTECH          0.665558\n",
              "FRETAIL          0.027726\n",
              "ASAHIINDIA       0.283604\n",
              "TECHM            0.350521\n",
              "dtype: float64"
            ]
          },
          "metadata": {
            "tags": []
          },
          "execution_count": 136
        }
      ]
    },
    {
      "cell_type": "code",
      "metadata": {
        "id": "dVv-A3yOAaZP",
        "colab_type": "code",
        "colab": {
          "base_uri": "https://localhost:8080/",
          "height": 34
        },
        "outputId": "54627dcc-d59c-4a4e-905c-2ab244655d47"
      },
      "source": [
        "d = 0\n",
        "for i in columns:\n",
        "  d = d+c[i]\n",
        "\n",
        "d"
      ],
      "execution_count": 137,
      "outputs": [
        {
          "output_type": "execute_result",
          "data": {
            "text/plain": [
              "4.768600352268834"
            ]
          },
          "metadata": {
            "tags": []
          },
          "execution_count": 137
        }
      ]
    },
    {
      "cell_type": "code",
      "metadata": {
        "id": "JDE9zjtwBKx7",
        "colab_type": "code",
        "colab": {}
      },
      "source": [
        "c = c*weights"
      ],
      "execution_count": 131,
      "outputs": []
    },
    {
      "cell_type": "code",
      "metadata": {
        "id": "ai3WuQC4BXHk",
        "colab_type": "code",
        "colab": {
          "base_uri": "https://localhost:8080/",
          "height": 202
        },
        "outputId": "336c56c7-6df0-42cc-8664-eb4f22af9ae8"
      },
      "source": [
        "c"
      ],
      "execution_count": 132,
      "outputs": [
        {
          "output_type": "execute_result",
          "data": {
            "text/plain": [
              "ASAHIINDIA       0.027894\n",
              "FRETAIL          0.002053\n",
              "HCLTECH          0.079134\n",
              "ICICIBANK        0.008760\n",
              "KANSAINEROLAC    0.045578\n",
              "LALPATHLABS      0.086974\n",
              "MPHASIS          0.125673\n",
              "RELIANCE         0.082246\n",
              "SUNTECK          0.003373\n",
              "TECHM            0.034199\n",
              "dtype: float64"
            ]
          },
          "metadata": {
            "tags": []
          },
          "execution_count": 132
        }
      ]
    },
    {
      "cell_type": "code",
      "metadata": {
        "id": "2vtYWM-fBYVf",
        "colab_type": "code",
        "colab": {
          "base_uri": "https://localhost:8080/",
          "height": 34
        },
        "outputId": "8eebbb2b-9fb3-439c-f2c3-063fc9e1de05"
      },
      "source": [
        "d = 0\n",
        "for i in columns:\n",
        "  d = d+c[i]\n",
        "\n",
        "d"
      ],
      "execution_count": 133,
      "outputs": [
        {
          "output_type": "execute_result",
          "data": {
            "text/plain": [
              "0.49588399174998277"
            ]
          },
          "metadata": {
            "tags": []
          },
          "execution_count": 133
        }
      ]
    },
    {
      "cell_type": "code",
      "metadata": {
        "id": "ZJ4FfHB1BcyV",
        "colab_type": "code",
        "colab": {}
      },
      "source": [
        "np.random.seed(42)\n",
        "num_ports = 6000\n",
        "all_weights = np.zeros((num_ports, len(returns.columns)))\n",
        "ret_arr = np.zeros(num_ports)\n",
        "vol_arr = np.zeros(num_ports)\n",
        "sharpe_arr = np.zeros(num_ports)\n",
        "\n",
        "for x in range(num_ports):\n",
        "    # Weights\n",
        "    weights = np.array(np.random.random(10))\n",
        "    weights = weights/np.sum(weights)\n",
        "    \n",
        "    # Save weights\n",
        "    all_weights[x,:] = weights\n",
        "    \n",
        "    # Expected return\n",
        "    ret_arr[x] = np.sum( (returns.mean() * weights * 252))\n",
        "    \n",
        "    # Expected volatility\n",
        "    vol_arr[x] = np.sqrt(np.dot(weights.T, np.dot(returns.cov()*252, weights)))\n",
        "    \n",
        "    # Sharpe Ratio\n",
        "    sharpe_arr[x] = ret_arr[x]/vol_arr[x]\n"
      ],
      "execution_count": 114,
      "outputs": []
    },
    {
      "cell_type": "code",
      "metadata": {
        "id": "9MvTzal7Mtv6",
        "colab_type": "code",
        "colab": {
          "base_uri": "https://localhost:8080/",
          "height": 34
        },
        "outputId": "4f1d0b06-422b-44a8-de49-5dcccec7d08e"
      },
      "source": [
        "sharpe_arr.max()"
      ],
      "execution_count": 115,
      "outputs": [
        {
          "output_type": "execute_result",
          "data": {
            "text/plain": [
              "5.542586217706546"
            ]
          },
          "metadata": {
            "tags": []
          },
          "execution_count": 115
        }
      ]
    },
    {
      "cell_type": "code",
      "metadata": {
        "id": "1j2eYoygNG7g",
        "colab_type": "code",
        "colab": {
          "base_uri": "https://localhost:8080/",
          "height": 34
        },
        "outputId": "72764d96-be36-4c9b-842c-e055366c3b40"
      },
      "source": [
        "sharpe_arr.argmax()"
      ],
      "execution_count": 116,
      "outputs": [
        {
          "output_type": "execute_result",
          "data": {
            "text/plain": [
              "5816"
            ]
          },
          "metadata": {
            "tags": []
          },
          "execution_count": 116
        }
      ]
    },
    {
      "cell_type": "code",
      "metadata": {
        "id": "e6_O2lVpNK2b",
        "colab_type": "code",
        "colab": {
          "base_uri": "https://localhost:8080/",
          "height": 50
        },
        "outputId": "b615a04c-ef38-43a8-e2f1-31a8be2f387d"
      },
      "source": [
        "print(all_weights[5816,:])"
      ],
      "execution_count": 117,
      "outputs": [
        {
          "output_type": "stream",
          "text": [
            "[0.02136689 0.22848799 0.11742261 0.09469107 0.09013959 0.00241058\n",
            " 0.23221643 0.04543684 0.16279953 0.00502847]\n"
          ],
          "name": "stdout"
        }
      ]
    },
    {
      "cell_type": "code",
      "metadata": {
        "id": "4hzSr-TeNXO9",
        "colab_type": "code",
        "colab": {
          "base_uri": "https://localhost:8080/",
          "height": 50
        },
        "outputId": "a8efb515-6f1b-4ce1-b262-28897b569fb0"
      },
      "source": [
        "weights = all_weights[5816,:]\n",
        "weights"
      ],
      "execution_count": 151,
      "outputs": [
        {
          "output_type": "execute_result",
          "data": {
            "text/plain": [
              "array([0.02136689, 0.22848799, 0.11742261, 0.09469107, 0.09013959,\n",
              "       0.00241058, 0.23221643, 0.04543684, 0.16279953, 0.00502847])"
            ]
          },
          "metadata": {
            "tags": []
          },
          "execution_count": 151
        }
      ]
    },
    {
      "cell_type": "code",
      "metadata": {
        "id": "5MUtLf4cNqu1",
        "colab_type": "code",
        "colab": {
          "base_uri": "https://localhost:8080/",
          "height": 34
        },
        "outputId": "8c719b0f-8986-4423-9ca1-82c0316f8d9b"
      },
      "source": [
        "d = 0\n",
        "for i in columns:\n",
        "  d = d+c[i]\n",
        "\n",
        "d"
      ],
      "execution_count": 124,
      "outputs": [
        {
          "output_type": "execute_result",
          "data": {
            "text/plain": [
              "0.7132334946322033"
            ]
          },
          "metadata": {
            "tags": []
          },
          "execution_count": 124
        }
      ]
    },
    {
      "cell_type": "code",
      "metadata": {
        "id": "g92owij2N3gC",
        "colab_type": "code",
        "colab": {
          "base_uri": "https://localhost:8080/",
          "height": 195
        },
        "outputId": "3b8046b0-ded7-4cae-a0b9-388722efed2f"
      },
      "source": [
        "returns.head()"
      ],
      "execution_count": 138,
      "outputs": [
        {
          "output_type": "execute_result",
          "data": {
            "text/html": [
              "<div>\n",
              "<style scoped>\n",
              "    .dataframe tbody tr th:only-of-type {\n",
              "        vertical-align: middle;\n",
              "    }\n",
              "\n",
              "    .dataframe tbody tr th {\n",
              "        vertical-align: top;\n",
              "    }\n",
              "\n",
              "    .dataframe thead th {\n",
              "        text-align: right;\n",
              "    }\n",
              "</style>\n",
              "<table border=\"1\" class=\"dataframe\">\n",
              "  <thead>\n",
              "    <tr style=\"text-align: right;\">\n",
              "      <th></th>\n",
              "      <th>SUNTECK</th>\n",
              "      <th>RELIANCE</th>\n",
              "      <th>MPHASIS</th>\n",
              "      <th>LALPATHLABS</th>\n",
              "      <th>KANSAINEROLAC</th>\n",
              "      <th>ICICIBANK</th>\n",
              "      <th>HCLTECH</th>\n",
              "      <th>FRETAIL</th>\n",
              "      <th>ASAHIINDIA</th>\n",
              "      <th>TECHM</th>\n",
              "    </tr>\n",
              "  </thead>\n",
              "  <tbody>\n",
              "    <tr>\n",
              "      <th>1</th>\n",
              "      <td>-0.012078</td>\n",
              "      <td>0.067134</td>\n",
              "      <td>0.060505</td>\n",
              "      <td>0.071768</td>\n",
              "      <td>0.038262</td>\n",
              "      <td>0.044014</td>\n",
              "      <td>0.059691</td>\n",
              "      <td>-0.049812</td>\n",
              "      <td>0.016577</td>\n",
              "      <td>0.033457</td>\n",
              "    </tr>\n",
              "    <tr>\n",
              "      <th>2</th>\n",
              "      <td>0.094749</td>\n",
              "      <td>0.147180</td>\n",
              "      <td>0.068067</td>\n",
              "      <td>0.042629</td>\n",
              "      <td>0.054554</td>\n",
              "      <td>0.068803</td>\n",
              "      <td>0.035177</td>\n",
              "      <td>-0.049950</td>\n",
              "      <td>-0.043247</td>\n",
              "      <td>0.046077</td>\n",
              "    </tr>\n",
              "    <tr>\n",
              "      <th>3</th>\n",
              "      <td>0.036548</td>\n",
              "      <td>-0.014830</td>\n",
              "      <td>-0.051698</td>\n",
              "      <td>0.011401</td>\n",
              "      <td>0.052190</td>\n",
              "      <td>0.042127</td>\n",
              "      <td>-0.021635</td>\n",
              "      <td>-0.049974</td>\n",
              "      <td>0.046684</td>\n",
              "      <td>-0.021834</td>\n",
              "    </tr>\n",
              "    <tr>\n",
              "      <th>4</th>\n",
              "      <td>0.030118</td>\n",
              "      <td>-0.000563</td>\n",
              "      <td>-0.004930</td>\n",
              "      <td>0.061486</td>\n",
              "      <td>0.036693</td>\n",
              "      <td>0.029069</td>\n",
              "      <td>-0.038084</td>\n",
              "      <td>-0.049863</td>\n",
              "      <td>0.061239</td>\n",
              "      <td>-0.021545</td>\n",
              "    </tr>\n",
              "    <tr>\n",
              "      <th>5</th>\n",
              "      <td>0.010696</td>\n",
              "      <td>-0.032986</td>\n",
              "      <td>-0.065423</td>\n",
              "      <td>-0.051400</td>\n",
              "      <td>0.014410</td>\n",
              "      <td>-0.077828</td>\n",
              "      <td>-0.027052</td>\n",
              "      <td>-0.049596</td>\n",
              "      <td>-0.004336</td>\n",
              "      <td>0.045031</td>\n",
              "    </tr>\n",
              "  </tbody>\n",
              "</table>\n",
              "</div>"
            ],
            "text/plain": [
              "    SUNTECK  RELIANCE   MPHASIS  ...   FRETAIL  ASAHIINDIA     TECHM\n",
              "1 -0.012078  0.067134  0.060505  ... -0.049812    0.016577  0.033457\n",
              "2  0.094749  0.147180  0.068067  ... -0.049950   -0.043247  0.046077\n",
              "3  0.036548 -0.014830 -0.051698  ... -0.049974    0.046684 -0.021834\n",
              "4  0.030118 -0.000563 -0.004930  ... -0.049863    0.061239 -0.021545\n",
              "5  0.010696 -0.032986 -0.065423  ... -0.049596   -0.004336  0.045031\n",
              "\n",
              "[5 rows x 10 columns]"
            ]
          },
          "metadata": {
            "tags": []
          },
          "execution_count": 138
        }
      ]
    },
    {
      "cell_type": "code",
      "metadata": {
        "id": "KWcHeJTvTXTr",
        "colab_type": "code",
        "colab": {}
      },
      "source": [
        "returns['daily_returns'] = returns.dot(weights)"
      ],
      "execution_count": 140,
      "outputs": []
    },
    {
      "cell_type": "code",
      "metadata": {
        "id": "D_sYLl3OUjtV",
        "colab_type": "code",
        "colab": {
          "base_uri": "https://localhost:8080/",
          "height": 402
        },
        "outputId": "e11ba40e-e18f-4331-aa24-ee2bb4187bd3"
      },
      "source": [
        "returns"
      ],
      "execution_count": 141,
      "outputs": [
        {
          "output_type": "execute_result",
          "data": {
            "text/html": [
              "<div>\n",
              "<style scoped>\n",
              "    .dataframe tbody tr th:only-of-type {\n",
              "        vertical-align: middle;\n",
              "    }\n",
              "\n",
              "    .dataframe tbody tr th {\n",
              "        vertical-align: top;\n",
              "    }\n",
              "\n",
              "    .dataframe thead th {\n",
              "        text-align: right;\n",
              "    }\n",
              "</style>\n",
              "<table border=\"1\" class=\"dataframe\">\n",
              "  <thead>\n",
              "    <tr style=\"text-align: right;\">\n",
              "      <th></th>\n",
              "      <th>SUNTECK</th>\n",
              "      <th>RELIANCE</th>\n",
              "      <th>MPHASIS</th>\n",
              "      <th>LALPATHLABS</th>\n",
              "      <th>KANSAINEROLAC</th>\n",
              "      <th>ICICIBANK</th>\n",
              "      <th>HCLTECH</th>\n",
              "      <th>FRETAIL</th>\n",
              "      <th>ASAHIINDIA</th>\n",
              "      <th>TECHM</th>\n",
              "      <th>daily_returns</th>\n",
              "    </tr>\n",
              "  </thead>\n",
              "  <tbody>\n",
              "    <tr>\n",
              "      <th>1</th>\n",
              "      <td>-0.012078</td>\n",
              "      <td>0.067134</td>\n",
              "      <td>0.060505</td>\n",
              "      <td>0.071768</td>\n",
              "      <td>0.038262</td>\n",
              "      <td>0.044014</td>\n",
              "      <td>0.059691</td>\n",
              "      <td>-0.049812</td>\n",
              "      <td>0.016577</td>\n",
              "      <td>0.033457</td>\n",
              "      <td>0.039605</td>\n",
              "    </tr>\n",
              "    <tr>\n",
              "      <th>2</th>\n",
              "      <td>0.094749</td>\n",
              "      <td>0.147180</td>\n",
              "      <td>0.068067</td>\n",
              "      <td>0.042629</td>\n",
              "      <td>0.054554</td>\n",
              "      <td>0.068803</td>\n",
              "      <td>0.035177</td>\n",
              "      <td>-0.049950</td>\n",
              "      <td>-0.043247</td>\n",
              "      <td>0.046077</td>\n",
              "      <td>0.042760</td>\n",
              "    </tr>\n",
              "    <tr>\n",
              "      <th>3</th>\n",
              "      <td>0.036548</td>\n",
              "      <td>-0.014830</td>\n",
              "      <td>-0.051698</td>\n",
              "      <td>0.011401</td>\n",
              "      <td>0.052190</td>\n",
              "      <td>0.042127</td>\n",
              "      <td>-0.021635</td>\n",
              "      <td>-0.049974</td>\n",
              "      <td>0.046684</td>\n",
              "      <td>-0.021834</td>\n",
              "      <td>-0.001331</td>\n",
              "    </tr>\n",
              "    <tr>\n",
              "      <th>4</th>\n",
              "      <td>0.030118</td>\n",
              "      <td>-0.000563</td>\n",
              "      <td>-0.004930</td>\n",
              "      <td>0.061486</td>\n",
              "      <td>0.036693</td>\n",
              "      <td>0.029069</td>\n",
              "      <td>-0.038084</td>\n",
              "      <td>-0.049863</td>\n",
              "      <td>0.061239</td>\n",
              "      <td>-0.021545</td>\n",
              "      <td>0.013205</td>\n",
              "    </tr>\n",
              "    <tr>\n",
              "      <th>5</th>\n",
              "      <td>0.010696</td>\n",
              "      <td>-0.032986</td>\n",
              "      <td>-0.065423</td>\n",
              "      <td>-0.051400</td>\n",
              "      <td>0.014410</td>\n",
              "      <td>-0.077828</td>\n",
              "      <td>-0.027052</td>\n",
              "      <td>-0.049596</td>\n",
              "      <td>-0.004336</td>\n",
              "      <td>0.045031</td>\n",
              "      <td>-0.025395</td>\n",
              "    </tr>\n",
              "    <tr>\n",
              "      <th>...</th>\n",
              "      <td>...</td>\n",
              "      <td>...</td>\n",
              "      <td>...</td>\n",
              "      <td>...</td>\n",
              "      <td>...</td>\n",
              "      <td>...</td>\n",
              "      <td>...</td>\n",
              "      <td>...</td>\n",
              "      <td>...</td>\n",
              "      <td>...</td>\n",
              "      <td>...</td>\n",
              "    </tr>\n",
              "    <tr>\n",
              "      <th>86</th>\n",
              "      <td>0.014946</td>\n",
              "      <td>-0.037218</td>\n",
              "      <td>-0.019194</td>\n",
              "      <td>-0.018623</td>\n",
              "      <td>-0.009162</td>\n",
              "      <td>-0.002982</td>\n",
              "      <td>-0.025335</td>\n",
              "      <td>0.049905</td>\n",
              "      <td>0.012008</td>\n",
              "      <td>-0.011617</td>\n",
              "      <td>-0.007823</td>\n",
              "    </tr>\n",
              "    <tr>\n",
              "      <th>87</th>\n",
              "      <td>0.016949</td>\n",
              "      <td>0.005819</td>\n",
              "      <td>0.011514</td>\n",
              "      <td>-0.015312</td>\n",
              "      <td>-0.030629</td>\n",
              "      <td>-0.017376</td>\n",
              "      <td>0.001512</td>\n",
              "      <td>0.049796</td>\n",
              "      <td>0.001483</td>\n",
              "      <td>-0.002439</td>\n",
              "      <td>0.000646</td>\n",
              "    </tr>\n",
              "    <tr>\n",
              "      <th>88</th>\n",
              "      <td>0.022131</td>\n",
              "      <td>-0.019798</td>\n",
              "      <td>0.002381</td>\n",
              "      <td>0.005662</td>\n",
              "      <td>0.033862</td>\n",
              "      <td>0.005363</td>\n",
              "      <td>0.014020</td>\n",
              "      <td>-0.049590</td>\n",
              "      <td>0.018069</td>\n",
              "      <td>0.010226</td>\n",
              "      <td>0.006260</td>\n",
              "    </tr>\n",
              "    <tr>\n",
              "      <th>89</th>\n",
              "      <td>-0.026731</td>\n",
              "      <td>-0.028107</td>\n",
              "      <td>-0.011529</td>\n",
              "      <td>-0.013956</td>\n",
              "      <td>0.021220</td>\n",
              "      <td>-0.010236</td>\n",
              "      <td>0.001064</td>\n",
              "      <td>-0.049909</td>\n",
              "      <td>0.017457</td>\n",
              "      <td>-0.011810</td>\n",
              "      <td>-0.009245</td>\n",
              "    </tr>\n",
              "    <tr>\n",
              "      <th>90</th>\n",
              "      <td>0.046690</td>\n",
              "      <td>0.070483</td>\n",
              "      <td>-0.035602</td>\n",
              "      <td>-0.013456</td>\n",
              "      <td>-0.023038</td>\n",
              "      <td>0.022578</td>\n",
              "      <td>-0.018840</td>\n",
              "      <td>0.044413</td>\n",
              "      <td>0.018587</td>\n",
              "      <td>-0.031101</td>\n",
              "      <td>-0.002333</td>\n",
              "    </tr>\n",
              "  </tbody>\n",
              "</table>\n",
              "<p>90 rows × 11 columns</p>\n",
              "</div>"
            ],
            "text/plain": [
              "     SUNTECK  RELIANCE   MPHASIS  ...  ASAHIINDIA     TECHM  daily_returns\n",
              "1  -0.012078  0.067134  0.060505  ...    0.016577  0.033457       0.039605\n",
              "2   0.094749  0.147180  0.068067  ...   -0.043247  0.046077       0.042760\n",
              "3   0.036548 -0.014830 -0.051698  ...    0.046684 -0.021834      -0.001331\n",
              "4   0.030118 -0.000563 -0.004930  ...    0.061239 -0.021545       0.013205\n",
              "5   0.010696 -0.032986 -0.065423  ...   -0.004336  0.045031      -0.025395\n",
              "..       ...       ...       ...  ...         ...       ...            ...\n",
              "86  0.014946 -0.037218 -0.019194  ...    0.012008 -0.011617      -0.007823\n",
              "87  0.016949  0.005819  0.011514  ...    0.001483 -0.002439       0.000646\n",
              "88  0.022131 -0.019798  0.002381  ...    0.018069  0.010226       0.006260\n",
              "89 -0.026731 -0.028107 -0.011529  ...    0.017457 -0.011810      -0.009245\n",
              "90  0.046690  0.070483 -0.035602  ...    0.018587 -0.031101      -0.002333\n",
              "\n",
              "[90 rows x 11 columns]"
            ]
          },
          "metadata": {
            "tags": []
          },
          "execution_count": 141
        }
      ]
    },
    {
      "cell_type": "code",
      "metadata": {
        "id": "bQHFuoTQUtPp",
        "colab_type": "code",
        "colab": {}
      },
      "source": [
        "cumu_returns_daily = (1+returns).cumprod()"
      ],
      "execution_count": 142,
      "outputs": []
    },
    {
      "cell_type": "code",
      "metadata": {
        "id": "CLbRVcERVDsW",
        "colab_type": "code",
        "colab": {
          "base_uri": "https://localhost:8080/",
          "height": 195
        },
        "outputId": "c9f3d19e-929f-476c-dac9-c3dc7b372815"
      },
      "source": [
        "cumu_returns_daily.tail(5)"
      ],
      "execution_count": 143,
      "outputs": [
        {
          "output_type": "execute_result",
          "data": {
            "text/html": [
              "<div>\n",
              "<style scoped>\n",
              "    .dataframe tbody tr th:only-of-type {\n",
              "        vertical-align: middle;\n",
              "    }\n",
              "\n",
              "    .dataframe tbody tr th {\n",
              "        vertical-align: top;\n",
              "    }\n",
              "\n",
              "    .dataframe thead th {\n",
              "        text-align: right;\n",
              "    }\n",
              "</style>\n",
              "<table border=\"1\" class=\"dataframe\">\n",
              "  <thead>\n",
              "    <tr style=\"text-align: right;\">\n",
              "      <th></th>\n",
              "      <th>SUNTECK</th>\n",
              "      <th>RELIANCE</th>\n",
              "      <th>MPHASIS</th>\n",
              "      <th>LALPATHLABS</th>\n",
              "      <th>KANSAINEROLAC</th>\n",
              "      <th>ICICIBANK</th>\n",
              "      <th>HCLTECH</th>\n",
              "      <th>FRETAIL</th>\n",
              "      <th>ASAHIINDIA</th>\n",
              "      <th>TECHM</th>\n",
              "      <th>daily_returns</th>\n",
              "    </tr>\n",
              "  </thead>\n",
              "  <tbody>\n",
              "    <tr>\n",
              "      <th>86</th>\n",
              "      <td>0.987922</td>\n",
              "      <td>2.380547</td>\n",
              "      <td>1.852114</td>\n",
              "      <td>1.525860</td>\n",
              "      <td>1.457497</td>\n",
              "      <td>1.236092</td>\n",
              "      <td>1.669766</td>\n",
              "      <td>1.038064</td>\n",
              "      <td>1.214775</td>\n",
              "      <td>1.399667</td>\n",
              "      <td>1.516262</td>\n",
              "    </tr>\n",
              "    <tr>\n",
              "      <th>87</th>\n",
              "      <td>1.004667</td>\n",
              "      <td>2.394399</td>\n",
              "      <td>1.873440</td>\n",
              "      <td>1.502496</td>\n",
              "      <td>1.412856</td>\n",
              "      <td>1.214613</td>\n",
              "      <td>1.672290</td>\n",
              "      <td>1.089756</td>\n",
              "      <td>1.216577</td>\n",
              "      <td>1.396252</td>\n",
              "      <td>1.517242</td>\n",
              "    </tr>\n",
              "    <tr>\n",
              "      <th>88</th>\n",
              "      <td>1.026901</td>\n",
              "      <td>2.346996</td>\n",
              "      <td>1.877899</td>\n",
              "      <td>1.511003</td>\n",
              "      <td>1.460698</td>\n",
              "      <td>1.221127</td>\n",
              "      <td>1.695735</td>\n",
              "      <td>1.035714</td>\n",
              "      <td>1.238559</td>\n",
              "      <td>1.410530</td>\n",
              "      <td>1.526739</td>\n",
              "    </tr>\n",
              "    <tr>\n",
              "      <th>89</th>\n",
              "      <td>0.999451</td>\n",
              "      <td>2.281029</td>\n",
              "      <td>1.856249</td>\n",
              "      <td>1.489916</td>\n",
              "      <td>1.491694</td>\n",
              "      <td>1.208627</td>\n",
              "      <td>1.697539</td>\n",
              "      <td>0.984023</td>\n",
              "      <td>1.260180</td>\n",
              "      <td>1.393873</td>\n",
              "      <td>1.512624</td>\n",
              "    </tr>\n",
              "    <tr>\n",
              "      <th>90</th>\n",
              "      <td>1.046116</td>\n",
              "      <td>2.441802</td>\n",
              "      <td>1.790163</td>\n",
              "      <td>1.469867</td>\n",
              "      <td>1.457329</td>\n",
              "      <td>1.235915</td>\n",
              "      <td>1.665558</td>\n",
              "      <td>1.027726</td>\n",
              "      <td>1.283604</td>\n",
              "      <td>1.350521</td>\n",
              "      <td>1.509095</td>\n",
              "    </tr>\n",
              "  </tbody>\n",
              "</table>\n",
              "</div>"
            ],
            "text/plain": [
              "     SUNTECK  RELIANCE   MPHASIS  ...  ASAHIINDIA     TECHM  daily_returns\n",
              "86  0.987922  2.380547  1.852114  ...    1.214775  1.399667       1.516262\n",
              "87  1.004667  2.394399  1.873440  ...    1.216577  1.396252       1.517242\n",
              "88  1.026901  2.346996  1.877899  ...    1.238559  1.410530       1.526739\n",
              "89  0.999451  2.281029  1.856249  ...    1.260180  1.393873       1.512624\n",
              "90  1.046116  2.441802  1.790163  ...    1.283604  1.350521       1.509095\n",
              "\n",
              "[5 rows x 11 columns]"
            ]
          },
          "metadata": {
            "tags": []
          },
          "execution_count": 143
        }
      ]
    },
    {
      "cell_type": "code",
      "metadata": {
        "id": "T64aAwCaVILY",
        "colab_type": "code",
        "colab": {
          "base_uri": "https://localhost:8080/",
          "height": 282
        },
        "outputId": "7ac4a68f-d863-44e9-9a00-3c3cc611a048"
      },
      "source": [
        "cumu_returns_daily['daily_returns'].plot()"
      ],
      "execution_count": 144,
      "outputs": [
        {
          "output_type": "execute_result",
          "data": {
            "text/plain": [
              "<matplotlib.axes._subplots.AxesSubplot at 0x7f846295d518>"
            ]
          },
          "metadata": {
            "tags": []
          },
          "execution_count": 144
        },
        {
          "output_type": "display_data",
          "data": {
            "image/png": "[encoded data removed]",
            "text/plain": [
              "<Figure size 432x288 with 1 Axes>"
            ]
          },
          "metadata": {
            "tags": [],
            "needs_background": "light"
          }
        }
      ]
    },
    {
      "cell_type": "code",
      "metadata": {
        "id": "de4Vm2iGVgIp",
        "colab_type": "code",
        "colab": {}
      },
      "source": [
        "matrix_covariance_portfolio = (returns.iloc[:,:-1].cov())*252"
      ],
      "execution_count": 145,
      "outputs": []
    },
    {
      "cell_type": "code",
      "metadata": {
        "id": "hoLvHtLsWDhv",
        "colab_type": "code",
        "colab": {
          "base_uri": "https://localhost:8080/",
          "height": 343
        },
        "outputId": "69428f61-0f53-45a2-c4a3-a0d06f1acaf8"
      },
      "source": [
        "matrix_covariance_portfolio"
      ],
      "execution_count": 146,
      "outputs": [
        {
          "output_type": "execute_result",
          "data": {
            "text/html": [
              "<div>\n",
              "<style scoped>\n",
              "    .dataframe tbody tr th:only-of-type {\n",
              "        vertical-align: middle;\n",
              "    }\n",
              "\n",
              "    .dataframe tbody tr th {\n",
              "        vertical-align: top;\n",
              "    }\n",
              "\n",
              "    .dataframe thead th {\n",
              "        text-align: right;\n",
              "    }\n",
              "</style>\n",
              "<table border=\"1\" class=\"dataframe\">\n",
              "  <thead>\n",
              "    <tr style=\"text-align: right;\">\n",
              "      <th></th>\n",
              "      <th>SUNTECK</th>\n",
              "      <th>RELIANCE</th>\n",
              "      <th>MPHASIS</th>\n",
              "      <th>LALPATHLABS</th>\n",
              "      <th>KANSAINEROLAC</th>\n",
              "      <th>ICICIBANK</th>\n",
              "      <th>HCLTECH</th>\n",
              "      <th>FRETAIL</th>\n",
              "      <th>ASAHIINDIA</th>\n",
              "      <th>TECHM</th>\n",
              "    </tr>\n",
              "  </thead>\n",
              "  <tbody>\n",
              "    <tr>\n",
              "      <th>SUNTECK</th>\n",
              "      <td>0.351497</td>\n",
              "      <td>0.081206</td>\n",
              "      <td>0.004022</td>\n",
              "      <td>0.054910</td>\n",
              "      <td>0.077759</td>\n",
              "      <td>0.156361</td>\n",
              "      <td>0.020913</td>\n",
              "      <td>0.019395</td>\n",
              "      <td>0.102949</td>\n",
              "      <td>0.030648</td>\n",
              "    </tr>\n",
              "    <tr>\n",
              "      <th>RELIANCE</th>\n",
              "      <td>0.081206</td>\n",
              "      <td>0.273581</td>\n",
              "      <td>0.052307</td>\n",
              "      <td>0.035619</td>\n",
              "      <td>0.044232</td>\n",
              "      <td>0.153045</td>\n",
              "      <td>0.086879</td>\n",
              "      <td>0.032438</td>\n",
              "      <td>0.052954</td>\n",
              "      <td>0.084496</td>\n",
              "    </tr>\n",
              "    <tr>\n",
              "      <th>MPHASIS</th>\n",
              "      <td>0.004022</td>\n",
              "      <td>0.052307</td>\n",
              "      <td>0.245844</td>\n",
              "      <td>0.039691</td>\n",
              "      <td>0.046754</td>\n",
              "      <td>0.067810</td>\n",
              "      <td>0.081251</td>\n",
              "      <td>-0.036117</td>\n",
              "      <td>0.007926</td>\n",
              "      <td>0.059827</td>\n",
              "    </tr>\n",
              "    <tr>\n",
              "      <th>LALPATHLABS</th>\n",
              "      <td>0.054910</td>\n",
              "      <td>0.035619</td>\n",
              "      <td>0.039691</td>\n",
              "      <td>0.138890</td>\n",
              "      <td>0.017312</td>\n",
              "      <td>0.098272</td>\n",
              "      <td>0.045220</td>\n",
              "      <td>-0.025413</td>\n",
              "      <td>0.037492</td>\n",
              "      <td>0.031182</td>\n",
              "    </tr>\n",
              "    <tr>\n",
              "      <th>KANSAINEROLAC</th>\n",
              "      <td>0.077759</td>\n",
              "      <td>0.044232</td>\n",
              "      <td>0.046754</td>\n",
              "      <td>0.017312</td>\n",
              "      <td>0.186456</td>\n",
              "      <td>0.096245</td>\n",
              "      <td>0.045594</td>\n",
              "      <td>0.011783</td>\n",
              "      <td>0.078146</td>\n",
              "      <td>0.046449</td>\n",
              "    </tr>\n",
              "    <tr>\n",
              "      <th>ICICIBANK</th>\n",
              "      <td>0.156361</td>\n",
              "      <td>0.153045</td>\n",
              "      <td>0.067810</td>\n",
              "      <td>0.098272</td>\n",
              "      <td>0.096245</td>\n",
              "      <td>0.420274</td>\n",
              "      <td>0.113340</td>\n",
              "      <td>0.012731</td>\n",
              "      <td>0.141306</td>\n",
              "      <td>0.075041</td>\n",
              "    </tr>\n",
              "    <tr>\n",
              "      <th>HCLTECH</th>\n",
              "      <td>0.020913</td>\n",
              "      <td>0.086879</td>\n",
              "      <td>0.081251</td>\n",
              "      <td>0.045220</td>\n",
              "      <td>0.045594</td>\n",
              "      <td>0.113340</td>\n",
              "      <td>0.194811</td>\n",
              "      <td>-0.034314</td>\n",
              "      <td>0.017373</td>\n",
              "      <td>0.128632</td>\n",
              "    </tr>\n",
              "    <tr>\n",
              "      <th>FRETAIL</th>\n",
              "      <td>0.019395</td>\n",
              "      <td>0.032438</td>\n",
              "      <td>-0.036117</td>\n",
              "      <td>-0.025413</td>\n",
              "      <td>0.011783</td>\n",
              "      <td>0.012731</td>\n",
              "      <td>-0.034314</td>\n",
              "      <td>0.528036</td>\n",
              "      <td>0.056088</td>\n",
              "      <td>-0.005963</td>\n",
              "    </tr>\n",
              "    <tr>\n",
              "      <th>ASAHIINDIA</th>\n",
              "      <td>0.102949</td>\n",
              "      <td>0.052954</td>\n",
              "      <td>0.007926</td>\n",
              "      <td>0.037492</td>\n",
              "      <td>0.078146</td>\n",
              "      <td>0.141306</td>\n",
              "      <td>0.017373</td>\n",
              "      <td>0.056088</td>\n",
              "      <td>0.228668</td>\n",
              "      <td>0.031371</td>\n",
              "    </tr>\n",
              "    <tr>\n",
              "      <th>TECHM</th>\n",
              "      <td>0.030648</td>\n",
              "      <td>0.084496</td>\n",
              "      <td>0.059827</td>\n",
              "      <td>0.031182</td>\n",
              "      <td>0.046449</td>\n",
              "      <td>0.075041</td>\n",
              "      <td>0.128632</td>\n",
              "      <td>-0.005963</td>\n",
              "      <td>0.031371</td>\n",
              "      <td>0.190460</td>\n",
              "    </tr>\n",
              "  </tbody>\n",
              "</table>\n",
              "</div>"
            ],
            "text/plain": [
              "                SUNTECK  RELIANCE   MPHASIS  ...   FRETAIL  ASAHIINDIA     TECHM\n",
              "SUNTECK        0.351497  0.081206  0.004022  ...  0.019395    0.102949  0.030648\n",
              "RELIANCE       0.081206  0.273581  0.052307  ...  0.032438    0.052954  0.084496\n",
              "MPHASIS        0.004022  0.052307  0.245844  ... -0.036117    0.007926  0.059827\n",
              "LALPATHLABS    0.054910  0.035619  0.039691  ... -0.025413    0.037492  0.031182\n",
              "KANSAINEROLAC  0.077759  0.044232  0.046754  ...  0.011783    0.078146  0.046449\n",
              "ICICIBANK      0.156361  0.153045  0.067810  ...  0.012731    0.141306  0.075041\n",
              "HCLTECH        0.020913  0.086879  0.081251  ... -0.034314    0.017373  0.128632\n",
              "FRETAIL        0.019395  0.032438 -0.036117  ...  0.528036    0.056088 -0.005963\n",
              "ASAHIINDIA     0.102949  0.052954  0.007926  ...  0.056088    0.228668  0.031371\n",
              "TECHM          0.030648  0.084496  0.059827  ... -0.005963    0.031371  0.190460\n",
              "\n",
              "[10 rows x 10 columns]"
            ]
          },
          "metadata": {
            "tags": []
          },
          "execution_count": 146
        }
      ]
    },
    {
      "cell_type": "code",
      "metadata": {
        "id": "typp31-TWgS5",
        "colab_type": "code",
        "colab": {}
      },
      "source": [
        "portfolio_variance = np.dot(weights.T,np.dot(matrix_covariance_portfolio,weights))"
      ],
      "execution_count": 147,
      "outputs": []
    },
    {
      "cell_type": "code",
      "metadata": {
        "id": "YUmsldHgW17p",
        "colab_type": "code",
        "colab": {
          "base_uri": "https://localhost:8080/",
          "height": 34
        },
        "outputId": "3c0c92b3-06a0-4715-deaa-be25be4f63b4"
      },
      "source": [
        "np.sqrt(portfolio_variance)"
      ],
      "execution_count": 150,
      "outputs": [
        {
          "output_type": "execute_result",
          "data": {
            "text/plain": [
              "0.30084257585732915"
            ]
          },
          "metadata": {
            "tags": []
          },
          "execution_count": 150
        }
      ]
    },
    {
      "cell_type": "code",
      "metadata": {
        "id": "zJAfBlHwW7xP",
        "colab_type": "code",
        "colab": {
          "base_uri": "https://localhost:8080/",
          "height": 402
        },
        "outputId": "bfb012d4-7352-4b96-fe63-40f56ceba611"
      },
      "source": [
        "returns['daily_returns'] = returns.dot(weights)\n",
        "returns"
      ],
      "execution_count": 154,
      "outputs": [
        {
          "output_type": "execute_result",
          "data": {
            "text/html": [
              "<div>\n",
              "<style scoped>\n",
              "    .dataframe tbody tr th:only-of-type {\n",
              "        vertical-align: middle;\n",
              "    }\n",
              "\n",
              "    .dataframe tbody tr th {\n",
              "        vertical-align: top;\n",
              "    }\n",
              "\n",
              "    .dataframe thead th {\n",
              "        text-align: right;\n",
              "    }\n",
              "</style>\n",
              "<table border=\"1\" class=\"dataframe\">\n",
              "  <thead>\n",
              "    <tr style=\"text-align: right;\">\n",
              "      <th></th>\n",
              "      <th>SUNTECK</th>\n",
              "      <th>RELIANCE</th>\n",
              "      <th>MPHASIS</th>\n",
              "      <th>LALPATHLABS</th>\n",
              "      <th>KANSAINEROLAC</th>\n",
              "      <th>ICICIBANK</th>\n",
              "      <th>HCLTECH</th>\n",
              "      <th>FRETAIL</th>\n",
              "      <th>ASAHIINDIA</th>\n",
              "      <th>TECHM</th>\n",
              "      <th>daily_returns</th>\n",
              "    </tr>\n",
              "  </thead>\n",
              "  <tbody>\n",
              "    <tr>\n",
              "      <th>1</th>\n",
              "      <td>-0.012078</td>\n",
              "      <td>0.067134</td>\n",
              "      <td>0.060505</td>\n",
              "      <td>0.071768</td>\n",
              "      <td>0.038262</td>\n",
              "      <td>0.044014</td>\n",
              "      <td>0.059691</td>\n",
              "      <td>-0.049812</td>\n",
              "      <td>0.016577</td>\n",
              "      <td>0.033457</td>\n",
              "      <td>0.047002</td>\n",
              "    </tr>\n",
              "    <tr>\n",
              "      <th>2</th>\n",
              "      <td>0.094749</td>\n",
              "      <td>0.147180</td>\n",
              "      <td>0.068067</td>\n",
              "      <td>0.042629</td>\n",
              "      <td>0.054554</td>\n",
              "      <td>0.068803</td>\n",
              "      <td>0.035177</td>\n",
              "      <td>-0.049950</td>\n",
              "      <td>-0.043247</td>\n",
              "      <td>0.046077</td>\n",
              "      <td>0.051856</td>\n",
              "    </tr>\n",
              "    <tr>\n",
              "      <th>3</th>\n",
              "      <td>0.036548</td>\n",
              "      <td>-0.014830</td>\n",
              "      <td>-0.051698</td>\n",
              "      <td>0.011401</td>\n",
              "      <td>0.052190</td>\n",
              "      <td>0.042127</td>\n",
              "      <td>-0.021635</td>\n",
              "      <td>-0.049974</td>\n",
              "      <td>0.046684</td>\n",
              "      <td>-0.021834</td>\n",
              "      <td>-0.002597</td>\n",
              "    </tr>\n",
              "    <tr>\n",
              "      <th>4</th>\n",
              "      <td>0.030118</td>\n",
              "      <td>-0.000563</td>\n",
              "      <td>-0.004930</td>\n",
              "      <td>0.061486</td>\n",
              "      <td>0.036693</td>\n",
              "      <td>0.029069</td>\n",
              "      <td>-0.038084</td>\n",
              "      <td>-0.049863</td>\n",
              "      <td>0.061239</td>\n",
              "      <td>-0.021545</td>\n",
              "      <td>0.007888</td>\n",
              "    </tr>\n",
              "    <tr>\n",
              "      <th>5</th>\n",
              "      <td>0.010696</td>\n",
              "      <td>-0.032986</td>\n",
              "      <td>-0.065423</td>\n",
              "      <td>-0.051400</td>\n",
              "      <td>0.014410</td>\n",
              "      <td>-0.077828</td>\n",
              "      <td>-0.027052</td>\n",
              "      <td>-0.049596</td>\n",
              "      <td>-0.004336</td>\n",
              "      <td>0.045031</td>\n",
              "      <td>-0.027761</td>\n",
              "    </tr>\n",
              "    <tr>\n",
              "      <th>...</th>\n",
              "      <td>...</td>\n",
              "      <td>...</td>\n",
              "      <td>...</td>\n",
              "      <td>...</td>\n",
              "      <td>...</td>\n",
              "      <td>...</td>\n",
              "      <td>...</td>\n",
              "      <td>...</td>\n",
              "      <td>...</td>\n",
              "      <td>...</td>\n",
              "      <td>...</td>\n",
              "    </tr>\n",
              "    <tr>\n",
              "      <th>86</th>\n",
              "      <td>0.014946</td>\n",
              "      <td>-0.037218</td>\n",
              "      <td>-0.019194</td>\n",
              "      <td>-0.018623</td>\n",
              "      <td>-0.009162</td>\n",
              "      <td>-0.002982</td>\n",
              "      <td>-0.025335</td>\n",
              "      <td>0.049905</td>\n",
              "      <td>0.012008</td>\n",
              "      <td>-0.011617</td>\n",
              "      <td>-0.014754</td>\n",
              "    </tr>\n",
              "    <tr>\n",
              "      <th>87</th>\n",
              "      <td>0.016949</td>\n",
              "      <td>0.005819</td>\n",
              "      <td>0.011514</td>\n",
              "      <td>-0.015312</td>\n",
              "      <td>-0.030629</td>\n",
              "      <td>-0.017376</td>\n",
              "      <td>0.001512</td>\n",
              "      <td>0.049796</td>\n",
              "      <td>0.001483</td>\n",
              "      <td>-0.002439</td>\n",
              "      <td>0.001634</td>\n",
              "    </tr>\n",
              "    <tr>\n",
              "      <th>88</th>\n",
              "      <td>0.022131</td>\n",
              "      <td>-0.019798</td>\n",
              "      <td>0.002381</td>\n",
              "      <td>0.005662</td>\n",
              "      <td>0.033862</td>\n",
              "      <td>0.005363</td>\n",
              "      <td>0.014020</td>\n",
              "      <td>-0.049590</td>\n",
              "      <td>0.018069</td>\n",
              "      <td>0.010226</td>\n",
              "      <td>0.003826</td>\n",
              "    </tr>\n",
              "    <tr>\n",
              "      <th>89</th>\n",
              "      <td>-0.026731</td>\n",
              "      <td>-0.028107</td>\n",
              "      <td>-0.011529</td>\n",
              "      <td>-0.013956</td>\n",
              "      <td>0.021220</td>\n",
              "      <td>-0.010236</td>\n",
              "      <td>0.001064</td>\n",
              "      <td>-0.049909</td>\n",
              "      <td>0.017457</td>\n",
              "      <td>-0.011810</td>\n",
              "      <td>-0.007019</td>\n",
              "    </tr>\n",
              "    <tr>\n",
              "      <th>90</th>\n",
              "      <td>0.046690</td>\n",
              "      <td>0.070483</td>\n",
              "      <td>-0.035602</td>\n",
              "      <td>-0.013456</td>\n",
              "      <td>-0.023038</td>\n",
              "      <td>0.022578</td>\n",
              "      <td>-0.018840</td>\n",
              "      <td>0.044413</td>\n",
              "      <td>0.018587</td>\n",
              "      <td>-0.031101</td>\n",
              "      <td>0.010138</td>\n",
              "    </tr>\n",
              "  </tbody>\n",
              "</table>\n",
              "<p>90 rows × 11 columns</p>\n",
              "</div>"
            ],
            "text/plain": [
              "     SUNTECK  RELIANCE   MPHASIS  ...  ASAHIINDIA     TECHM  daily_returns\n",
              "1  -0.012078  0.067134  0.060505  ...    0.016577  0.033457       0.047002\n",
              "2   0.094749  0.147180  0.068067  ...   -0.043247  0.046077       0.051856\n",
              "3   0.036548 -0.014830 -0.051698  ...    0.046684 -0.021834      -0.002597\n",
              "4   0.030118 -0.000563 -0.004930  ...    0.061239 -0.021545       0.007888\n",
              "5   0.010696 -0.032986 -0.065423  ...   -0.004336  0.045031      -0.027761\n",
              "..       ...       ...       ...  ...         ...       ...            ...\n",
              "86  0.014946 -0.037218 -0.019194  ...    0.012008 -0.011617      -0.014754\n",
              "87  0.016949  0.005819  0.011514  ...    0.001483 -0.002439       0.001634\n",
              "88  0.022131 -0.019798  0.002381  ...    0.018069  0.010226       0.003826\n",
              "89 -0.026731 -0.028107 -0.011529  ...    0.017457 -0.011810      -0.007019\n",
              "90  0.046690  0.070483 -0.035602  ...    0.018587 -0.031101       0.010138\n",
              "\n",
              "[90 rows x 11 columns]"
            ]
          },
          "metadata": {
            "tags": []
          },
          "execution_count": 154
        }
      ]
    },
    {
      "cell_type": "code",
      "metadata": {
        "id": "6rX5OYz5XYCX",
        "colab_type": "code",
        "colab": {
          "base_uri": "https://localhost:8080/",
          "height": 195
        },
        "outputId": "e4483d4a-5c97-46d7-9400-08a6e0a6894e"
      },
      "source": [
        "cumu_returns_daily = (1+returns).cumprod()\n",
        "cumu_returns_daily.tail(5)"
      ],
      "execution_count": 155,
      "outputs": [
        {
          "output_type": "execute_result",
          "data": {
            "text/html": [
              "<div>\n",
              "<style scoped>\n",
              "    .dataframe tbody tr th:only-of-type {\n",
              "        vertical-align: middle;\n",
              "    }\n",
              "\n",
              "    .dataframe tbody tr th {\n",
              "        vertical-align: top;\n",
              "    }\n",
              "\n",
              "    .dataframe thead th {\n",
              "        text-align: right;\n",
              "    }\n",
              "</style>\n",
              "<table border=\"1\" class=\"dataframe\">\n",
              "  <thead>\n",
              "    <tr style=\"text-align: right;\">\n",
              "      <th></th>\n",
              "      <th>SUNTECK</th>\n",
              "      <th>RELIANCE</th>\n",
              "      <th>MPHASIS</th>\n",
              "      <th>LALPATHLABS</th>\n",
              "      <th>KANSAINEROLAC</th>\n",
              "      <th>ICICIBANK</th>\n",
              "      <th>HCLTECH</th>\n",
              "      <th>FRETAIL</th>\n",
              "      <th>ASAHIINDIA</th>\n",
              "      <th>TECHM</th>\n",
              "      <th>daily_returns</th>\n",
              "    </tr>\n",
              "  </thead>\n",
              "  <tbody>\n",
              "    <tr>\n",
              "      <th>86</th>\n",
              "      <td>0.987922</td>\n",
              "      <td>2.380547</td>\n",
              "      <td>1.852114</td>\n",
              "      <td>1.525860</td>\n",
              "      <td>1.457497</td>\n",
              "      <td>1.236092</td>\n",
              "      <td>1.669766</td>\n",
              "      <td>1.038064</td>\n",
              "      <td>1.214775</td>\n",
              "      <td>1.399667</td>\n",
              "      <td>1.691423</td>\n",
              "    </tr>\n",
              "    <tr>\n",
              "      <th>87</th>\n",
              "      <td>1.004667</td>\n",
              "      <td>2.394399</td>\n",
              "      <td>1.873440</td>\n",
              "      <td>1.502496</td>\n",
              "      <td>1.412856</td>\n",
              "      <td>1.214613</td>\n",
              "      <td>1.672290</td>\n",
              "      <td>1.089756</td>\n",
              "      <td>1.216577</td>\n",
              "      <td>1.396252</td>\n",
              "      <td>1.694187</td>\n",
              "    </tr>\n",
              "    <tr>\n",
              "      <th>88</th>\n",
              "      <td>1.026901</td>\n",
              "      <td>2.346996</td>\n",
              "      <td>1.877899</td>\n",
              "      <td>1.511003</td>\n",
              "      <td>1.460698</td>\n",
              "      <td>1.221127</td>\n",
              "      <td>1.695735</td>\n",
              "      <td>1.035714</td>\n",
              "      <td>1.238559</td>\n",
              "      <td>1.410530</td>\n",
              "      <td>1.700668</td>\n",
              "    </tr>\n",
              "    <tr>\n",
              "      <th>89</th>\n",
              "      <td>0.999451</td>\n",
              "      <td>2.281029</td>\n",
              "      <td>1.856249</td>\n",
              "      <td>1.489916</td>\n",
              "      <td>1.491694</td>\n",
              "      <td>1.208627</td>\n",
              "      <td>1.697539</td>\n",
              "      <td>0.984023</td>\n",
              "      <td>1.260180</td>\n",
              "      <td>1.393873</td>\n",
              "      <td>1.688732</td>\n",
              "    </tr>\n",
              "    <tr>\n",
              "      <th>90</th>\n",
              "      <td>1.046116</td>\n",
              "      <td>2.441802</td>\n",
              "      <td>1.790163</td>\n",
              "      <td>1.469867</td>\n",
              "      <td>1.457329</td>\n",
              "      <td>1.235915</td>\n",
              "      <td>1.665558</td>\n",
              "      <td>1.027726</td>\n",
              "      <td>1.283604</td>\n",
              "      <td>1.350521</td>\n",
              "      <td>1.705852</td>\n",
              "    </tr>\n",
              "  </tbody>\n",
              "</table>\n",
              "</div>"
            ],
            "text/plain": [
              "     SUNTECK  RELIANCE   MPHASIS  ...  ASAHIINDIA     TECHM  daily_returns\n",
              "86  0.987922  2.380547  1.852114  ...    1.214775  1.399667       1.691423\n",
              "87  1.004667  2.394399  1.873440  ...    1.216577  1.396252       1.694187\n",
              "88  1.026901  2.346996  1.877899  ...    1.238559  1.410530       1.700668\n",
              "89  0.999451  2.281029  1.856249  ...    1.260180  1.393873       1.688732\n",
              "90  1.046116  2.441802  1.790163  ...    1.283604  1.350521       1.705852\n",
              "\n",
              "[5 rows x 11 columns]"
            ]
          },
          "metadata": {
            "tags": []
          },
          "execution_count": 155
        }
      ]
    },
    {
      "cell_type": "code",
      "metadata": {
        "id": "i8AUGr1eXqsG",
        "colab_type": "code",
        "colab": {
          "base_uri": "https://localhost:8080/",
          "height": 282
        },
        "outputId": "82990df0-b982-4375-9a91-9a015ef1ebe8"
      },
      "source": [
        "cumu_returns_daily['daily_returns'].plot()"
      ],
      "execution_count": 156,
      "outputs": [
        {
          "output_type": "execute_result",
          "data": {
            "text/plain": [
              "<matplotlib.axes._subplots.AxesSubplot at 0x7f8462935a90>"
            ]
          },
          "metadata": {
            "tags": []
          },
          "execution_count": 156
        },
        {
          "output_type": "display_data",
          "data": {
            "image/png": "[encoded data removed]",
            "text/plain": [
              "<Figure size 432x288 with 1 Axes>"
            ]
          },
          "metadata": {
            "tags": [],
            "needs_background": "light"
          }
        }
      ]
    },
    {
      "cell_type": "code",
      "metadata": {
        "id": "bDsIITENX1R9",
        "colab_type": "code",
        "colab": {
          "base_uri": "https://localhost:8080/",
          "height": 343
        },
        "outputId": "2fd7cb4b-1f1d-43e1-9532-7b98205bc61f"
      },
      "source": [
        "matrix_covariance_portfolio = (returns.iloc[:,:-1].cov())*252\n",
        "matrix_covariance_portfolio"
      ],
      "execution_count": 157,
      "outputs": [
        {
          "output_type": "execute_result",
          "data": {
            "text/html": [
              "<div>\n",
              "<style scoped>\n",
              "    .dataframe tbody tr th:only-of-type {\n",
              "        vertical-align: middle;\n",
              "    }\n",
              "\n",
              "    .dataframe tbody tr th {\n",
              "        vertical-align: top;\n",
              "    }\n",
              "\n",
              "    .dataframe thead th {\n",
              "        text-align: right;\n",
              "    }\n",
              "</style>\n",
              "<table border=\"1\" class=\"dataframe\">\n",
              "  <thead>\n",
              "    <tr style=\"text-align: right;\">\n",
              "      <th></th>\n",
              "      <th>SUNTECK</th>\n",
              "      <th>RELIANCE</th>\n",
              "      <th>MPHASIS</th>\n",
              "      <th>LALPATHLABS</th>\n",
              "      <th>KANSAINEROLAC</th>\n",
              "      <th>ICICIBANK</th>\n",
              "      <th>HCLTECH</th>\n",
              "      <th>FRETAIL</th>\n",
              "      <th>ASAHIINDIA</th>\n",
              "      <th>TECHM</th>\n",
              "    </tr>\n",
              "  </thead>\n",
              "  <tbody>\n",
              "    <tr>\n",
              "      <th>SUNTECK</th>\n",
              "      <td>0.351497</td>\n",
              "      <td>0.081206</td>\n",
              "      <td>0.004022</td>\n",
              "      <td>0.054910</td>\n",
              "      <td>0.077759</td>\n",
              "      <td>0.156361</td>\n",
              "      <td>0.020913</td>\n",
              "      <td>0.019395</td>\n",
              "      <td>0.102949</td>\n",
              "      <td>0.030648</td>\n",
              "    </tr>\n",
              "    <tr>\n",
              "      <th>RELIANCE</th>\n",
              "      <td>0.081206</td>\n",
              "      <td>0.273581</td>\n",
              "      <td>0.052307</td>\n",
              "      <td>0.035619</td>\n",
              "      <td>0.044232</td>\n",
              "      <td>0.153045</td>\n",
              "      <td>0.086879</td>\n",
              "      <td>0.032438</td>\n",
              "      <td>0.052954</td>\n",
              "      <td>0.084496</td>\n",
              "    </tr>\n",
              "    <tr>\n",
              "      <th>MPHASIS</th>\n",
              "      <td>0.004022</td>\n",
              "      <td>0.052307</td>\n",
              "      <td>0.245844</td>\n",
              "      <td>0.039691</td>\n",
              "      <td>0.046754</td>\n",
              "      <td>0.067810</td>\n",
              "      <td>0.081251</td>\n",
              "      <td>-0.036117</td>\n",
              "      <td>0.007926</td>\n",
              "      <td>0.059827</td>\n",
              "    </tr>\n",
              "    <tr>\n",
              "      <th>LALPATHLABS</th>\n",
              "      <td>0.054910</td>\n",
              "      <td>0.035619</td>\n",
              "      <td>0.039691</td>\n",
              "      <td>0.138890</td>\n",
              "      <td>0.017312</td>\n",
              "      <td>0.098272</td>\n",
              "      <td>0.045220</td>\n",
              "      <td>-0.025413</td>\n",
              "      <td>0.037492</td>\n",
              "      <td>0.031182</td>\n",
              "    </tr>\n",
              "    <tr>\n",
              "      <th>KANSAINEROLAC</th>\n",
              "      <td>0.077759</td>\n",
              "      <td>0.044232</td>\n",
              "      <td>0.046754</td>\n",
              "      <td>0.017312</td>\n",
              "      <td>0.186456</td>\n",
              "      <td>0.096245</td>\n",
              "      <td>0.045594</td>\n",
              "      <td>0.011783</td>\n",
              "      <td>0.078146</td>\n",
              "      <td>0.046449</td>\n",
              "    </tr>\n",
              "    <tr>\n",
              "      <th>ICICIBANK</th>\n",
              "      <td>0.156361</td>\n",
              "      <td>0.153045</td>\n",
              "      <td>0.067810</td>\n",
              "      <td>0.098272</td>\n",
              "      <td>0.096245</td>\n",
              "      <td>0.420274</td>\n",
              "      <td>0.113340</td>\n",
              "      <td>0.012731</td>\n",
              "      <td>0.141306</td>\n",
              "      <td>0.075041</td>\n",
              "    </tr>\n",
              "    <tr>\n",
              "      <th>HCLTECH</th>\n",
              "      <td>0.020913</td>\n",
              "      <td>0.086879</td>\n",
              "      <td>0.081251</td>\n",
              "      <td>0.045220</td>\n",
              "      <td>0.045594</td>\n",
              "      <td>0.113340</td>\n",
              "      <td>0.194811</td>\n",
              "      <td>-0.034314</td>\n",
              "      <td>0.017373</td>\n",
              "      <td>0.128632</td>\n",
              "    </tr>\n",
              "    <tr>\n",
              "      <th>FRETAIL</th>\n",
              "      <td>0.019395</td>\n",
              "      <td>0.032438</td>\n",
              "      <td>-0.036117</td>\n",
              "      <td>-0.025413</td>\n",
              "      <td>0.011783</td>\n",
              "      <td>0.012731</td>\n",
              "      <td>-0.034314</td>\n",
              "      <td>0.528036</td>\n",
              "      <td>0.056088</td>\n",
              "      <td>-0.005963</td>\n",
              "    </tr>\n",
              "    <tr>\n",
              "      <th>ASAHIINDIA</th>\n",
              "      <td>0.102949</td>\n",
              "      <td>0.052954</td>\n",
              "      <td>0.007926</td>\n",
              "      <td>0.037492</td>\n",
              "      <td>0.078146</td>\n",
              "      <td>0.141306</td>\n",
              "      <td>0.017373</td>\n",
              "      <td>0.056088</td>\n",
              "      <td>0.228668</td>\n",
              "      <td>0.031371</td>\n",
              "    </tr>\n",
              "    <tr>\n",
              "      <th>TECHM</th>\n",
              "      <td>0.030648</td>\n",
              "      <td>0.084496</td>\n",
              "      <td>0.059827</td>\n",
              "      <td>0.031182</td>\n",
              "      <td>0.046449</td>\n",
              "      <td>0.075041</td>\n",
              "      <td>0.128632</td>\n",
              "      <td>-0.005963</td>\n",
              "      <td>0.031371</td>\n",
              "      <td>0.190460</td>\n",
              "    </tr>\n",
              "  </tbody>\n",
              "</table>\n",
              "</div>"
            ],
            "text/plain": [
              "                SUNTECK  RELIANCE   MPHASIS  ...   FRETAIL  ASAHIINDIA     TECHM\n",
              "SUNTECK        0.351497  0.081206  0.004022  ...  0.019395    0.102949  0.030648\n",
              "RELIANCE       0.081206  0.273581  0.052307  ...  0.032438    0.052954  0.084496\n",
              "MPHASIS        0.004022  0.052307  0.245844  ... -0.036117    0.007926  0.059827\n",
              "LALPATHLABS    0.054910  0.035619  0.039691  ... -0.025413    0.037492  0.031182\n",
              "KANSAINEROLAC  0.077759  0.044232  0.046754  ...  0.011783    0.078146  0.046449\n",
              "ICICIBANK      0.156361  0.153045  0.067810  ...  0.012731    0.141306  0.075041\n",
              "HCLTECH        0.020913  0.086879  0.081251  ... -0.034314    0.017373  0.128632\n",
              "FRETAIL        0.019395  0.032438 -0.036117  ...  0.528036    0.056088 -0.005963\n",
              "ASAHIINDIA     0.102949  0.052954  0.007926  ...  0.056088    0.228668  0.031371\n",
              "TECHM          0.030648  0.084496  0.059827  ... -0.005963    0.031371  0.190460\n",
              "\n",
              "[10 rows x 10 columns]"
            ]
          },
          "metadata": {
            "tags": []
          },
          "execution_count": 157
        }
      ]
    },
    {
      "cell_type": "code",
      "metadata": {
        "id": "wD1m0hwOX6lZ",
        "colab_type": "code",
        "colab": {
          "base_uri": "https://localhost:8080/",
          "height": 34
        },
        "outputId": "e7c46c8c-201e-4272-c097-9034cb3e188e"
      },
      "source": [
        "portfolio_variance = np.dot(weights.T,np.dot(matrix_covariance_portfolio,weights))\n",
        "np.sqrt(portfolio_variance)"
      ],
      "execution_count": 158,
      "outputs": [
        {
          "output_type": "execute_result",
          "data": {
            "text/plain": [
              "0.2774166565504124"
            ]
          },
          "metadata": {
            "tags": []
          },
          "execution_count": 158
        }
      ]
    },
    {
      "cell_type": "code",
      "metadata": {
        "id": "HBLERmFCYCFX",
        "colab_type": "code",
        "colab": {
          "base_uri": "https://localhost:8080/",
          "height": 313
        },
        "outputId": "4cabaaf0-7460-46a6-a832-5eeba4920ff3"
      },
      "source": [
        "weights = {0.1,0.1,0.1,0.1,0.1,0.1,0.1,0.1,0.1,0.1}\n",
        "returns['daily_returns'] = returns.dot(weights)\n",
        "returns"
      ],
      "execution_count": 165,
      "outputs": [
        {
          "output_type": "error",
          "ename": "IndexError",
          "evalue": "ignored",
          "traceback": [
            "\u001b[0;31m---------------------------------------------------------------------------\u001b[0m",
            "\u001b[0;31mIndexError\u001b[0m                                Traceback (most recent call last)",
            "\u001b[0;32m<ipython-input-165-4c9a21b3dade>\u001b[0m in \u001b[0;36m<module>\u001b[0;34m()\u001b[0m\n\u001b[1;32m      1\u001b[0m \u001b[0mweights\u001b[0m \u001b[0;34m=\u001b[0m \u001b[0;34m{\u001b[0m\u001b[0;36m0.1\u001b[0m\u001b[0;34m,\u001b[0m\u001b[0;36m0.1\u001b[0m\u001b[0;34m,\u001b[0m\u001b[0;36m0.1\u001b[0m\u001b[0;34m,\u001b[0m\u001b[0;36m0.1\u001b[0m\u001b[0;34m,\u001b[0m\u001b[0;36m0.1\u001b[0m\u001b[0;34m,\u001b[0m\u001b[0;36m0.1\u001b[0m\u001b[0;34m,\u001b[0m\u001b[0;36m0.1\u001b[0m\u001b[0;34m,\u001b[0m\u001b[0;36m0.1\u001b[0m\u001b[0;34m,\u001b[0m\u001b[0;36m0.1\u001b[0m\u001b[0;34m,\u001b[0m\u001b[0;36m0.1\u001b[0m\u001b[0;34m}\u001b[0m\u001b[0;34m\u001b[0m\u001b[0;34m\u001b[0m\u001b[0m\n\u001b[0;32m----> 2\u001b[0;31m \u001b[0mreturns\u001b[0m\u001b[0;34m[\u001b[0m\u001b[0;34m'daily_returns'\u001b[0m\u001b[0;34m]\u001b[0m \u001b[0;34m=\u001b[0m \u001b[0mreturns\u001b[0m\u001b[0;34m.\u001b[0m\u001b[0mdot\u001b[0m\u001b[0;34m(\u001b[0m\u001b[0mweights\u001b[0m\u001b[0;34m)\u001b[0m\u001b[0;34m\u001b[0m\u001b[0;34m\u001b[0m\u001b[0m\n\u001b[0m\u001b[1;32m      3\u001b[0m \u001b[0mreturns\u001b[0m\u001b[0;34m\u001b[0m\u001b[0;34m\u001b[0m\u001b[0m\n",
            "\u001b[0;32m/usr/local/lib/python3.6/dist-packages/pandas/core/frame.py\u001b[0m in \u001b[0;36mdot\u001b[0;34m(self, other)\u001b[0m\n\u001b[1;32m   1131\u001b[0m             \u001b[0mlvals\u001b[0m \u001b[0;34m=\u001b[0m \u001b[0mself\u001b[0m\u001b[0;34m.\u001b[0m\u001b[0mvalues\u001b[0m\u001b[0;34m\u001b[0m\u001b[0;34m\u001b[0m\u001b[0m\n\u001b[1;32m   1132\u001b[0m             \u001b[0mrvals\u001b[0m \u001b[0;34m=\u001b[0m \u001b[0mnp\u001b[0m\u001b[0;34m.\u001b[0m\u001b[0masarray\u001b[0m\u001b[0;34m(\u001b[0m\u001b[0mother\u001b[0m\u001b[0;34m)\u001b[0m\u001b[0;34m\u001b[0m\u001b[0;34m\u001b[0m\u001b[0m\n\u001b[0;32m-> 1133\u001b[0;31m             \u001b[0;32mif\u001b[0m \u001b[0mlvals\u001b[0m\u001b[0;34m.\u001b[0m\u001b[0mshape\u001b[0m\u001b[0;34m[\u001b[0m\u001b[0;36m1\u001b[0m\u001b[0;34m]\u001b[0m \u001b[0;34m!=\u001b[0m \u001b[0mrvals\u001b[0m\u001b[0;34m.\u001b[0m\u001b[0mshape\u001b[0m\u001b[0;34m[\u001b[0m\u001b[0;36m0\u001b[0m\u001b[0;34m]\u001b[0m\u001b[0;34m:\u001b[0m\u001b[0;34m\u001b[0m\u001b[0;34m\u001b[0m\u001b[0m\n\u001b[0m\u001b[1;32m   1134\u001b[0m                 raise ValueError(\n\u001b[1;32m   1135\u001b[0m                     \u001b[0;34mf\"Dot product shape mismatch, {lvals.shape} vs {rvals.shape}\"\u001b[0m\u001b[0;34m\u001b[0m\u001b[0;34m\u001b[0m\u001b[0m\n",
            "\u001b[0;31mIndexError\u001b[0m: tuple index out of range"
          ]
        }
      ]
    },
    {
      "cell_type": "code",
      "metadata": {
        "id": "n0HQaPMpYU6R",
        "colab_type": "code",
        "colab": {}
      },
      "source": [
        ""
      ],
      "execution_count": null,
      "outputs": []
    }
  ]
}